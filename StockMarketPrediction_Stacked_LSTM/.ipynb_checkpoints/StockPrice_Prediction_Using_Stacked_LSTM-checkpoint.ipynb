{
 "cells": [
  {
   "cell_type": "code",
   "execution_count": 1,
   "metadata": {
    "colab": {
     "base_uri": "https://localhost:8080/"
    },
    "id": "k1kBFKFhTIyr",
    "outputId": "f616f66d-ea10-4908-944d-c65e58272d2c"
   },
   "outputs": [
    {
     "name": "stdout",
     "output_type": "stream",
     "text": [
      "Requirement already satisfied: pandas-datareader in /usr/local/lib/python3.6/dist-packages (0.9.0)\n",
      "Requirement already satisfied: pandas>=0.23 in /usr/local/lib/python3.6/dist-packages (from pandas-datareader) (1.1.5)\n",
      "Requirement already satisfied: lxml in /usr/local/lib/python3.6/dist-packages (from pandas-datareader) (4.2.6)\n",
      "Requirement already satisfied: requests>=2.19.0 in /usr/local/lib/python3.6/dist-packages (from pandas-datareader) (2.23.0)\n",
      "Requirement already satisfied: numpy>=1.15.4 in /usr/local/lib/python3.6/dist-packages (from pandas>=0.23->pandas-datareader) (1.18.5)\n",
      "Requirement already satisfied: python-dateutil>=2.7.3 in /usr/local/lib/python3.6/dist-packages (from pandas>=0.23->pandas-datareader) (2.8.1)\n",
      "Requirement already satisfied: pytz>=2017.2 in /usr/local/lib/python3.6/dist-packages (from pandas>=0.23->pandas-datareader) (2018.9)\n",
      "Requirement already satisfied: certifi>=2017.4.17 in /usr/local/lib/python3.6/dist-packages (from requests>=2.19.0->pandas-datareader) (2020.12.5)\n",
      "Requirement already satisfied: chardet<4,>=3.0.2 in /usr/local/lib/python3.6/dist-packages (from requests>=2.19.0->pandas-datareader) (3.0.4)\n",
      "Requirement already satisfied: urllib3!=1.25.0,!=1.25.1,<1.26,>=1.21.1 in /usr/local/lib/python3.6/dist-packages (from requests>=2.19.0->pandas-datareader) (1.24.3)\n",
      "Requirement already satisfied: idna<3,>=2.5 in /usr/local/lib/python3.6/dist-packages (from requests>=2.19.0->pandas-datareader) (2.10)\n",
      "Requirement already satisfied: six>=1.5 in /usr/local/lib/python3.6/dist-packages (from python-dateutil>=2.7.3->pandas>=0.23->pandas-datareader) (1.15.0)\n"
     ]
    }
   ],
   "source": [
    "!pip install pandas-datareader"
   ]
  },
  {
   "cell_type": "code",
   "execution_count": 2,
   "metadata": {
    "colab": {
     "base_uri": "https://localhost:8080/",
     "height": 279
    },
    "id": "WzFtG9ILWTPX",
    "outputId": "72f3698b-02cf-4783-b7b0-ca02ba3db7fc"
   },
   "outputs": [
    {
     "data": {
      "text/html": [
       "<div>\n",
       "<style scoped>\n",
       "    .dataframe tbody tr th:only-of-type {\n",
       "        vertical-align: middle;\n",
       "    }\n",
       "\n",
       "    .dataframe tbody tr th {\n",
       "        vertical-align: top;\n",
       "    }\n",
       "\n",
       "    .dataframe thead th {\n",
       "        text-align: right;\n",
       "    }\n",
       "</style>\n",
       "<table border=\"1\" class=\"dataframe\">\n",
       "  <thead>\n",
       "    <tr style=\"text-align: right;\">\n",
       "      <th></th>\n",
       "      <th>symbol</th>\n",
       "      <th>date</th>\n",
       "      <th>close</th>\n",
       "      <th>high</th>\n",
       "      <th>low</th>\n",
       "      <th>open</th>\n",
       "      <th>volume</th>\n",
       "      <th>adjClose</th>\n",
       "      <th>adjHigh</th>\n",
       "      <th>adjLow</th>\n",
       "      <th>adjOpen</th>\n",
       "      <th>adjVolume</th>\n",
       "      <th>divCash</th>\n",
       "      <th>splitFactor</th>\n",
       "    </tr>\n",
       "  </thead>\n",
       "  <tbody>\n",
       "    <tr>\n",
       "      <th>0</th>\n",
       "      <td>AAPL</td>\n",
       "      <td>2015-12-15 00:00:00+00:00</td>\n",
       "      <td>110.49</td>\n",
       "      <td>112.80</td>\n",
       "      <td>110.35</td>\n",
       "      <td>111.94</td>\n",
       "      <td>53323105</td>\n",
       "      <td>25.588222</td>\n",
       "      <td>26.123192</td>\n",
       "      <td>25.555800</td>\n",
       "      <td>25.924026</td>\n",
       "      <td>213292420</td>\n",
       "      <td>0.0</td>\n",
       "      <td>1.0</td>\n",
       "    </tr>\n",
       "    <tr>\n",
       "      <th>1</th>\n",
       "      <td>AAPL</td>\n",
       "      <td>2015-12-16 00:00:00+00:00</td>\n",
       "      <td>111.34</td>\n",
       "      <td>111.99</td>\n",
       "      <td>108.80</td>\n",
       "      <td>111.07</td>\n",
       "      <td>56238467</td>\n",
       "      <td>25.785073</td>\n",
       "      <td>25.935605</td>\n",
       "      <td>25.196838</td>\n",
       "      <td>25.722544</td>\n",
       "      <td>224953868</td>\n",
       "      <td>0.0</td>\n",
       "      <td>1.0</td>\n",
       "    </tr>\n",
       "    <tr>\n",
       "      <th>2</th>\n",
       "      <td>AAPL</td>\n",
       "      <td>2015-12-17 00:00:00+00:00</td>\n",
       "      <td>108.98</td>\n",
       "      <td>112.25</td>\n",
       "      <td>108.98</td>\n",
       "      <td>112.02</td>\n",
       "      <td>44772827</td>\n",
       "      <td>25.238524</td>\n",
       "      <td>25.995818</td>\n",
       "      <td>25.238524</td>\n",
       "      <td>25.942553</td>\n",
       "      <td>179091308</td>\n",
       "      <td>0.0</td>\n",
       "      <td>1.0</td>\n",
       "    </tr>\n",
       "    <tr>\n",
       "      <th>3</th>\n",
       "      <td>AAPL</td>\n",
       "      <td>2015-12-18 00:00:00+00:00</td>\n",
       "      <td>106.03</td>\n",
       "      <td>109.52</td>\n",
       "      <td>105.81</td>\n",
       "      <td>108.91</td>\n",
       "      <td>96453327</td>\n",
       "      <td>24.555337</td>\n",
       "      <td>25.363581</td>\n",
       "      <td>24.504388</td>\n",
       "      <td>25.222312</td>\n",
       "      <td>385813308</td>\n",
       "      <td>0.0</td>\n",
       "      <td>1.0</td>\n",
       "    </tr>\n",
       "    <tr>\n",
       "      <th>4</th>\n",
       "      <td>AAPL</td>\n",
       "      <td>2015-12-21 00:00:00+00:00</td>\n",
       "      <td>107.33</td>\n",
       "      <td>107.37</td>\n",
       "      <td>105.57</td>\n",
       "      <td>107.28</td>\n",
       "      <td>47590610</td>\n",
       "      <td>24.856402</td>\n",
       "      <td>24.865666</td>\n",
       "      <td>24.448807</td>\n",
       "      <td>24.844823</td>\n",
       "      <td>190362440</td>\n",
       "      <td>0.0</td>\n",
       "      <td>1.0</td>\n",
       "    </tr>\n",
       "  </tbody>\n",
       "</table>\n",
       "</div>"
      ],
      "text/plain": [
       "  symbol                       date   close  ...  adjVolume  divCash  splitFactor\n",
       "0   AAPL  2015-12-15 00:00:00+00:00  110.49  ...  213292420      0.0          1.0\n",
       "1   AAPL  2015-12-16 00:00:00+00:00  111.34  ...  224953868      0.0          1.0\n",
       "2   AAPL  2015-12-17 00:00:00+00:00  108.98  ...  179091308      0.0          1.0\n",
       "3   AAPL  2015-12-18 00:00:00+00:00  106.03  ...  385813308      0.0          1.0\n",
       "4   AAPL  2015-12-21 00:00:00+00:00  107.33  ...  190362440      0.0          1.0\n",
       "\n",
       "[5 rows x 14 columns]"
      ]
     },
     "execution_count": 2,
     "metadata": {
      "tags": []
     },
     "output_type": "execute_result"
    }
   ],
   "source": [
    "### Data Collection\n",
    "import pandas_datareader as pdr\n",
    "key=\"use-your-own-key\"\n",
    "\n",
    "df = pdr.get_data_tiingo('AAPL', api_key=key)\n",
    "df.to_csv('AAPL_New.csv')\n",
    "\n",
    "import pandas as pd\n",
    "df=pd.read_csv('AAPL_New.csv')\n",
    "df.head()"
   ]
  },
  {
   "cell_type": "code",
   "execution_count": 3,
   "metadata": {
    "colab": {
     "base_uri": "https://localhost:8080/"
    },
    "id": "Dw2F9AgRZMDU",
    "outputId": "1831a1b9-bcf3-4145-b4d0-5ecffc47ba38"
   },
   "outputs": [
    {
     "data": {
      "text/plain": [
       "1258"
      ]
     },
     "execution_count": 3,
     "metadata": {
      "tags": []
     },
     "output_type": "execute_result"
    }
   ],
   "source": [
    "len(df)"
   ]
  },
  {
   "cell_type": "code",
   "execution_count": 4,
   "metadata": {
    "colab": {
     "base_uri": "https://localhost:8080/",
     "height": 279
    },
    "id": "bAHVx-9uZRBN",
    "outputId": "c46d0c9f-4eed-4c8c-a927-dea0ed092aaa"
   },
   "outputs": [
    {
     "data": {
      "text/html": [
       "<div>\n",
       "<style scoped>\n",
       "    .dataframe tbody tr th:only-of-type {\n",
       "        vertical-align: middle;\n",
       "    }\n",
       "\n",
       "    .dataframe tbody tr th {\n",
       "        vertical-align: top;\n",
       "    }\n",
       "\n",
       "    .dataframe thead th {\n",
       "        text-align: right;\n",
       "    }\n",
       "</style>\n",
       "<table border=\"1\" class=\"dataframe\">\n",
       "  <thead>\n",
       "    <tr style=\"text-align: right;\">\n",
       "      <th></th>\n",
       "      <th>symbol</th>\n",
       "      <th>date</th>\n",
       "      <th>close</th>\n",
       "      <th>high</th>\n",
       "      <th>low</th>\n",
       "      <th>open</th>\n",
       "      <th>volume</th>\n",
       "      <th>adjClose</th>\n",
       "      <th>adjHigh</th>\n",
       "      <th>adjLow</th>\n",
       "      <th>adjOpen</th>\n",
       "      <th>adjVolume</th>\n",
       "      <th>divCash</th>\n",
       "      <th>splitFactor</th>\n",
       "    </tr>\n",
       "  </thead>\n",
       "  <tbody>\n",
       "    <tr>\n",
       "      <th>1253</th>\n",
       "      <td>AAPL</td>\n",
       "      <td>2020-12-07 00:00:00+00:00</td>\n",
       "      <td>123.75</td>\n",
       "      <td>124.57</td>\n",
       "      <td>122.25</td>\n",
       "      <td>122.31</td>\n",
       "      <td>86711990</td>\n",
       "      <td>123.75</td>\n",
       "      <td>124.57</td>\n",
       "      <td>122.25</td>\n",
       "      <td>122.31</td>\n",
       "      <td>86711990</td>\n",
       "      <td>0.0</td>\n",
       "      <td>1.0</td>\n",
       "    </tr>\n",
       "    <tr>\n",
       "      <th>1254</th>\n",
       "      <td>AAPL</td>\n",
       "      <td>2020-12-08 00:00:00+00:00</td>\n",
       "      <td>124.38</td>\n",
       "      <td>124.98</td>\n",
       "      <td>123.09</td>\n",
       "      <td>124.37</td>\n",
       "      <td>82225512</td>\n",
       "      <td>124.38</td>\n",
       "      <td>124.98</td>\n",
       "      <td>123.09</td>\n",
       "      <td>124.37</td>\n",
       "      <td>82225512</td>\n",
       "      <td>0.0</td>\n",
       "      <td>1.0</td>\n",
       "    </tr>\n",
       "    <tr>\n",
       "      <th>1255</th>\n",
       "      <td>AAPL</td>\n",
       "      <td>2020-12-09 00:00:00+00:00</td>\n",
       "      <td>121.78</td>\n",
       "      <td>125.95</td>\n",
       "      <td>121.00</td>\n",
       "      <td>124.53</td>\n",
       "      <td>115089193</td>\n",
       "      <td>121.78</td>\n",
       "      <td>125.95</td>\n",
       "      <td>121.00</td>\n",
       "      <td>124.53</td>\n",
       "      <td>115089193</td>\n",
       "      <td>0.0</td>\n",
       "      <td>1.0</td>\n",
       "    </tr>\n",
       "    <tr>\n",
       "      <th>1256</th>\n",
       "      <td>AAPL</td>\n",
       "      <td>2020-12-10 00:00:00+00:00</td>\n",
       "      <td>123.24</td>\n",
       "      <td>123.87</td>\n",
       "      <td>120.15</td>\n",
       "      <td>120.50</td>\n",
       "      <td>81312170</td>\n",
       "      <td>123.24</td>\n",
       "      <td>123.87</td>\n",
       "      <td>120.15</td>\n",
       "      <td>120.50</td>\n",
       "      <td>81312170</td>\n",
       "      <td>0.0</td>\n",
       "      <td>1.0</td>\n",
       "    </tr>\n",
       "    <tr>\n",
       "      <th>1257</th>\n",
       "      <td>AAPL</td>\n",
       "      <td>2020-12-11 00:00:00+00:00</td>\n",
       "      <td>122.41</td>\n",
       "      <td>122.76</td>\n",
       "      <td>120.55</td>\n",
       "      <td>122.43</td>\n",
       "      <td>86939786</td>\n",
       "      <td>122.41</td>\n",
       "      <td>122.76</td>\n",
       "      <td>120.55</td>\n",
       "      <td>122.43</td>\n",
       "      <td>86939786</td>\n",
       "      <td>0.0</td>\n",
       "      <td>1.0</td>\n",
       "    </tr>\n",
       "  </tbody>\n",
       "</table>\n",
       "</div>"
      ],
      "text/plain": [
       "     symbol                       date   close  ...  adjVolume  divCash  splitFactor\n",
       "1253   AAPL  2020-12-07 00:00:00+00:00  123.75  ...   86711990      0.0          1.0\n",
       "1254   AAPL  2020-12-08 00:00:00+00:00  124.38  ...   82225512      0.0          1.0\n",
       "1255   AAPL  2020-12-09 00:00:00+00:00  121.78  ...  115089193      0.0          1.0\n",
       "1256   AAPL  2020-12-10 00:00:00+00:00  123.24  ...   81312170      0.0          1.0\n",
       "1257   AAPL  2020-12-11 00:00:00+00:00  122.41  ...   86939786      0.0          1.0\n",
       "\n",
       "[5 rows x 14 columns]"
      ]
     },
     "execution_count": 4,
     "metadata": {
      "tags": []
     },
     "output_type": "execute_result"
    }
   ],
   "source": [
    "df.tail()"
   ]
  },
  {
   "cell_type": "code",
   "execution_count": 5,
   "metadata": {
    "colab": {
     "base_uri": "https://localhost:8080/"
    },
    "id": "fZ5D2tFRZXr6",
    "outputId": "ecb6125a-1d78-468b-b1de-b96a9faa73e8"
   },
   "outputs": [
    {
     "data": {
      "text/plain": [
       "0       110.49\n",
       "1       111.34\n",
       "2       108.98\n",
       "3       106.03\n",
       "4       107.33\n",
       "         ...  \n",
       "1253    123.75\n",
       "1254    124.38\n",
       "1255    121.78\n",
       "1256    123.24\n",
       "1257    122.41\n",
       "Name: close, Length: 1258, dtype: float64"
      ]
     },
     "execution_count": 5,
     "metadata": {
      "tags": []
     },
     "output_type": "execute_result"
    }
   ],
   "source": [
    "df1=df.reset_index()['close']\n",
    "df1"
   ]
  },
  {
   "cell_type": "code",
   "execution_count": 6,
   "metadata": {
    "colab": {
     "base_uri": "https://localhost:8080/",
     "height": 282
    },
    "id": "PiBeMt6EZ0Xc",
    "outputId": "93ef7fb8-7c50-4a47-8939-7cd396abfad7"
   },
   "outputs": [
    {
     "data": {
      "text/plain": [
       "[<matplotlib.lines.Line2D at 0x7f01556a7f28>]"
      ]
     },
     "execution_count": 6,
     "metadata": {
      "tags": []
     },
     "output_type": "execute_result"
    },
    {
     "data": {
      "image/png": "[encoded data removed]",
      "text/plain": [
       "<Figure size 432x288 with 1 Axes>"
      ]
     },
     "metadata": {
      "needs_background": "light",
      "tags": []
     },
     "output_type": "display_data"
    }
   ],
   "source": [
    "import matplotlib.pyplot as plt\n",
    "plt.plot(df1)"
   ]
  },
  {
   "cell_type": "markdown",
   "metadata": {
    "id": "Mq0b4NSbaAFU"
   },
   "source": [
    "### LSTM are sensitive to the scale of the data. so we apply MinMax scaler"
   ]
  },
  {
   "cell_type": "code",
   "execution_count": 7,
   "metadata": {
    "colab": {
     "base_uri": "https://localhost:8080/"
    },
    "id": "5ii-PHQSaBSQ",
    "outputId": "751af727-2dd5-4c78-f11c-3570216fe1d3"
   },
   "outputs": [
    {
     "data": {
      "text/plain": [
       "0       110.49\n",
       "1       111.34\n",
       "2       108.98\n",
       "3       106.03\n",
       "4       107.33\n",
       "         ...  \n",
       "1253    123.75\n",
       "1254    124.38\n",
       "1255    121.78\n",
       "1256    123.24\n",
       "1257    122.41\n",
       "Name: close, Length: 1258, dtype: float64"
      ]
     },
     "execution_count": 7,
     "metadata": {
      "tags": []
     },
     "output_type": "execute_result"
    }
   ],
   "source": [
    "df1"
   ]
  },
  {
   "cell_type": "code",
   "execution_count": 8,
   "metadata": {
    "colab": {
     "base_uri": "https://localhost:8080/"
    },
    "id": "qwkJFKOhaQDl",
    "outputId": "99fb7d4a-1357-4b33-862b-ca4b04508df9"
   },
   "outputs": [
    {
     "data": {
      "text/plain": [
       "array([[0.04846663],\n",
       "       [0.05051112],\n",
       "       [0.04483464],\n",
       "       ...,\n",
       "       [0.07562237],\n",
       "       [0.0791341 ],\n",
       "       [0.0771377 ]])"
      ]
     },
     "execution_count": 8,
     "metadata": {
      "tags": []
     },
     "output_type": "execute_result"
    }
   ],
   "source": [
    "import numpy as np\n",
    "from sklearn.preprocessing import MinMaxScaler\n",
    "scaler=MinMaxScaler(feature_range=(0,1))\n",
    "df1=scaler.fit_transform(np.array(df1).reshape(-1,1))\n",
    "df1"
   ]
  },
  {
   "cell_type": "markdown",
   "metadata": {
    "id": "CUCABfFAarq_"
   },
   "source": [
    "### Train Test Split \n",
    "\n",
    "while dividing the time series data . Train and Test split should be done w.r.t days"
   ]
  },
  {
   "cell_type": "code",
   "execution_count": 9,
   "metadata": {
    "colab": {
     "base_uri": "https://localhost:8080/"
    },
    "id": "f9QC00mjbPsA",
    "outputId": "e401f0b0-6e70-4cf2-f7f9-9d20a3c8dc2d"
   },
   "outputs": [
    {
     "name": "stdout",
     "output_type": "stream",
     "text": [
      "817 441\n"
     ]
    }
   ],
   "source": [
    "##splitting dataset into train and test split\n",
    "training_size=int(len(df1)*0.65)\n",
    "test_size=len(df1)-training_size\n",
    "\n",
    "print(training_size,test_size)\n",
    "train_data,test_data=df1[0:training_size,:],df1[training_size:len(df1),:1]"
   ]
  },
  {
   "cell_type": "markdown",
   "metadata": {
    "id": "E5DUd0tHbuR2"
   },
   "source": [
    "## Data Preprocessing \n",
    "\n",
    "Convert the Train Data into Matrix while considering the time steps \n",
    "\n",
    "120 , 130 , 140 , 150 , 160 ----- Train Data (Close value w.r.t days) \\\n",
    "time steps = 3\n",
    "\n",
    "  X_train      y_train\\\n",
    "f1   f2   f3   o/p \\\n",
    "120  130  140  150 \\\n",
    "130  140  150  160  "
   ]
  },
  {
   "cell_type": "code",
   "execution_count": 10,
   "metadata": {
    "id": "p6_9tATAbaz-"
   },
   "outputs": [],
   "source": [
    "# convert an array of values into a dataset matrix\n",
    "def create_dataset(dataset, time_step=1):\n",
    "\tdataX, dataY = [], []\n",
    "\tfor i in range(len(dataset)-time_step-1):\n",
    "\t\ta = dataset[i:(i+time_step), 0]   ###i=0, 0,1,2,3-----99   100 \n",
    "\t\tdataX.append(a)\n",
    "\t\tdataY.append(dataset[i + time_step, 0])\n",
    "\treturn numpy.array(dataX), numpy.array(dataY)\n",
    " "
   ]
  },
  {
   "cell_type": "code",
   "execution_count": 11,
   "metadata": {
    "colab": {
     "base_uri": "https://localhost:8080/"
    },
    "id": "rZRkY1iKesiI",
    "outputId": "06e25fc1-34ae-4e10-c8d2-94dc8e0e6847"
   },
   "outputs": [
    {
     "data": {
      "text/plain": [
       "array([[0.04846663],\n",
       "       [0.05051112],\n",
       "       [0.04483464],\n",
       "       [0.03773903],\n",
       "       [0.0408659 ],\n",
       "       [0.04062538],\n",
       "       [0.04394468],\n",
       "       [0.04254961],\n",
       "       [0.03963921],\n",
       "       [0.04425737],\n",
       "       [0.04084185],\n",
       "       [0.03588695],\n",
       "       [0.03610343],\n",
       "       [0.02975346],\n",
       "       [0.02491882],\n",
       "       [0.01469633],\n",
       "       [0.01592303],\n",
       "       [0.01969934],\n",
       "       [0.02313891],\n",
       "       [0.01695731],\n",
       "       [0.02208058],\n",
       "       [0.01633193],\n",
       "       [0.01520144],\n",
       "       [0.01551413],\n",
       "       [0.01433554],\n",
       "       [0.02665063],\n",
       "       [0.02188815],\n",
       "       [0.02321106],\n",
       "       [0.0074083 ],\n",
       "       [0.00901984],\n",
       "       [0.01683704],\n",
       "       [0.01464823],\n",
       "       [0.00995791],\n",
       "       [0.0144558 ],\n",
       "       [0.01505713],\n",
       "       [0.00885147],\n",
       "       [0.01123271],\n",
       "       [0.01118461],\n",
       "       [0.0094528 ],\n",
       "       [0.00808178],\n",
       "       [0.00877931],\n",
       "       [0.01515334],\n",
       "       [0.01871317],\n",
       "       [0.01423933],\n",
       "       [0.01371016],\n",
       "       [0.01573061],\n",
       "       [0.01046302],\n",
       "       [0.01385448],\n",
       "       [0.01544197],\n",
       "       [0.01580277],\n",
       "       [0.0152736 ],\n",
       "       [0.02450992],\n",
       "       [0.02503909],\n",
       "       [0.02684305],\n",
       "       [0.03047505],\n",
       "       [0.02773301],\n",
       "       [0.02571257],\n",
       "       [0.02592904],\n",
       "       [0.02604931],\n",
       "       [0.02867108],\n",
       "       [0.02929645],\n",
       "       [0.03425135],\n",
       "       [0.03759471],\n",
       "       [0.03718581],\n",
       "       [0.03747444],\n",
       "       [0.03745039],\n",
       "       [0.03939868],\n",
       "       [0.03797956],\n",
       "       [0.03687312],\n",
       "       [0.03571858],\n",
       "       [0.04170776],\n",
       "       [0.04622971],\n",
       "       [0.04485869],\n",
       "       [0.04726398],\n",
       "       [0.04998196],\n",
       "       [0.04683103],\n",
       "       [0.04959711],\n",
       "       [0.04377631],\n",
       "       [0.04406494],\n",
       "       [0.04493085],\n",
       "       [0.04834636],\n",
       "       [0.05219483],\n",
       "       [0.05233915],\n",
       "       [0.04692724],\n",
       "       [0.0412267 ],\n",
       "       [0.03985568],\n",
       "       [0.04038485],\n",
       "       [0.03759471],\n",
       "       [0.03689717],\n",
       "       [0.035454  ],\n",
       "       [0.03369814],\n",
       "       [0.01799158],\n",
       "       [0.01079976],\n",
       "       [0.00817799],\n",
       "       [0.00793746],\n",
       "       [0.01164161],\n",
       "       [0.00926037],\n",
       "       [0.00697535],\n",
       "       [0.00572459],\n",
       "       [0.00589296],\n",
       "       [0.0074083 ],\n",
       "       [0.00521948],\n",
       "       [0.        ],\n",
       "       [0.00043295],\n",
       "       [0.00851473],\n",
       "       [0.00757667],\n",
       "       [0.01015033],\n",
       "       [0.00928443],\n",
       "       [0.01173782],\n",
       "       [0.01464823],\n",
       "       [0.018184  ],\n",
       "       [0.02232111],\n",
       "       [0.02422129],\n",
       "       [0.02407697],\n",
       "       [0.02289838],\n",
       "       [0.01953097],\n",
       "       [0.01775105],\n",
       "       [0.01823211],\n",
       "       [0.01993987],\n",
       "       [0.02090198],\n",
       "       [0.02068551],\n",
       "       [0.02239327],\n",
       "       [0.02042093],\n",
       "       [0.01683704],\n",
       "       [0.01712568],\n",
       "       [0.01635598],\n",
       "       [0.01734215],\n",
       "       [0.01200241],\n",
       "       [0.01144919],\n",
       "       [0.01339747],\n",
       "       [0.01253157],\n",
       "       [0.01385448],\n",
       "       [0.00736019],\n",
       "       [0.004089  ],\n",
       "       [0.0078172 ],\n",
       "       [0.00976548],\n",
       "       [0.01265183],\n",
       "       [0.01334937],\n",
       "       [0.01118461],\n",
       "       [0.01248346],\n",
       "       [0.01346963],\n",
       "       [0.01524955],\n",
       "       [0.01597114],\n",
       "       [0.01702946],\n",
       "       [0.01570655],\n",
       "       [0.02032471],\n",
       "       [0.02030066],\n",
       "       [0.02282622],\n",
       "       [0.02292243],\n",
       "       [0.02313891],\n",
       "       [0.0218641 ],\n",
       "       [0.02001203],\n",
       "       [0.01683704],\n",
       "       [0.0152255 ],\n",
       "       [0.03033073],\n",
       "       [0.03367408],\n",
       "       [0.0333614 ],\n",
       "       [0.03778713],\n",
       "       [0.03401082],\n",
       "       [0.03716176],\n",
       "       [0.03735418],\n",
       "       [0.0412267 ],\n",
       "       [0.04336741],\n",
       "       [0.04442574],\n",
       "       [0.04247745],\n",
       "       [0.04230908],\n",
       "       [0.0429104 ],\n",
       "       [0.04603728],\n",
       "       [0.04579675],\n",
       "       [0.04541191],\n",
       "       [0.04507517],\n",
       "       [0.04574865],\n",
       "       [0.04370415],\n",
       "       [0.04452195],\n",
       "       [0.04254961],\n",
       "       [0.04144317],\n",
       "       [0.03992784],\n",
       "       [0.03963921],\n",
       "       [0.03766687],\n",
       "       [0.0379074 ],\n",
       "       [0.03942273],\n",
       "       [0.04182802],\n",
       "       [0.04175586],\n",
       "       [0.04334336],\n",
       "       [0.03651233],\n",
       "       [0.03076368],\n",
       "       [0.0363199 ],\n",
       "       [0.04235719],\n",
       "       [0.0515454 ],\n",
       "       [0.06068551],\n",
       "       [0.05912207],\n",
       "       [0.05589898],\n",
       "       [0.05587492],\n",
       "       [0.05582682],\n",
       "       [0.05840048],\n",
       "       [0.05380637],\n",
       "       [0.05421527],\n",
       "       [0.05472038],\n",
       "       [0.05678894],\n",
       "       [0.05253157],\n",
       "       [0.05462417],\n",
       "       [0.05334937],\n",
       "       [0.05450391],\n",
       "       [0.05462417],\n",
       "       [0.05664462],\n",
       "       [0.05705352],\n",
       "       [0.06184005],\n",
       "       [0.06244137],\n",
       "       [0.06494287],\n",
       "       [0.06407697],\n",
       "       [0.06564041],\n",
       "       [0.06544799],\n",
       "       [0.06525556],\n",
       "       [0.06441371],\n",
       "       [0.06426939],\n",
       "       [0.06316296],\n",
       "       [0.06568851],\n",
       "       [0.06713169],\n",
       "       [0.06073361],\n",
       "       [0.05806374],\n",
       "       [0.05623572],\n",
       "       [0.05580277],\n",
       "       [0.05087192],\n",
       "       [0.05111245],\n",
       "       [0.04687913],\n",
       "       [0.0444979 ],\n",
       "       [0.0482742 ],\n",
       "       [0.04983764],\n",
       "       [0.04940469],\n",
       "       [0.04197234],\n",
       "       [0.04351173],\n",
       "       [0.03696933],\n",
       "       [0.04033674],\n",
       "       [0.04726398],\n",
       "       [0.04716777],\n",
       "       [0.04743235],\n",
       "       [0.05144919],\n",
       "       [0.05161756],\n",
       "       [0.05024654],\n",
       "       [0.05159351],\n",
       "       [0.05106434],\n",
       "       [0.05079976],\n",
       "       [0.04853879],\n",
       "       [0.04606133],\n",
       "       [0.0470475 ],\n",
       "       [0.04514732],\n",
       "       [0.04716777],\n",
       "       [0.04976548],\n",
       "       [0.05238725],\n",
       "       [0.05678894],\n",
       "       [0.0552255 ],\n",
       "       [0.0597715 ],\n",
       "       [0.0597715 ],\n",
       "       [0.06128683],\n",
       "       [0.06164762],\n",
       "       [0.06325917],\n",
       "       [0.06400481],\n",
       "       [0.06426939],\n",
       "       [0.06241732],\n",
       "       [0.06297054],\n",
       "       [0.06475045],\n",
       "       [0.06354781],\n",
       "       [0.06347565],\n",
       "       [0.06128683],\n",
       "       [0.06208058],\n",
       "       [0.06176789],\n",
       "       [0.06318701],\n",
       "       [0.06631389],\n",
       "       [0.06891161],\n",
       "       [0.06920024],\n",
       "       [0.07073963],\n",
       "       [0.06953698],\n",
       "       [0.06903187],\n",
       "       [0.07134095],\n",
       "       [0.0713169 ],\n",
       "       [0.07081179],\n",
       "       [0.07134095],\n",
       "       [0.07153337],\n",
       "       [0.07126879],\n",
       "       [0.0758629 ],\n",
       "       [0.07600722],\n",
       "       [0.07603127],\n",
       "       [0.07526158],\n",
       "       [0.07458809],\n",
       "       [0.09238725],\n",
       "       [0.09185809],\n",
       "       [0.093181  ],\n",
       "       [0.0960914 ],\n",
       "       [0.09907396],\n",
       "       [0.10030066],\n",
       "       [0.10121467],\n",
       "       [0.10049308],\n",
       "       [0.10330728],\n",
       "       [0.10746843],\n",
       "       [0.10864702],\n",
       "       [0.10825015],\n",
       "       [0.10915213],\n",
       "       [0.11150932],\n",
       "       [0.11249549],\n",
       "       [0.11110042],\n",
       "       [0.11141311],\n",
       "       [0.11206254],\n",
       "       [0.11220686],\n",
       "       [0.11894167],\n",
       "       [0.11694528],\n",
       "       [0.11891762],\n",
       "       [0.11785929],\n",
       "       [0.11829224],\n",
       "       [0.11704149],\n",
       "       [0.1162718 ],\n",
       "       [0.11737823],\n",
       "       [0.11752255],\n",
       "       [0.11701744],\n",
       "       [0.12055322],\n",
       "       [0.12110643],\n",
       "       [0.11942273],\n",
       "       [0.12295851],\n",
       "       [0.11906194],\n",
       "       [0.1228623 ],\n",
       "       [0.12165965],\n",
       "       [0.12098617],\n",
       "       [0.12156344],\n",
       "       [0.12858689],\n",
       "       [0.12935658],\n",
       "       [0.12889958],\n",
       "       [0.12825015],\n",
       "       [0.12834636],\n",
       "       [0.13092002],\n",
       "       [0.12911606],\n",
       "       [0.12825015],\n",
       "       [0.12748046],\n",
       "       [0.12707156],\n",
       "       [0.12336741],\n",
       "       [0.12377631],\n",
       "       [0.12197234],\n",
       "       [0.12384847],\n",
       "       [0.12233313],\n",
       "       [0.12108238],\n",
       "       [0.12531569],\n",
       "       [0.12490679],\n",
       "       [0.12820204],\n",
       "       [0.13034275],\n",
       "       [0.12829826],\n",
       "       [0.12856284],\n",
       "       [0.1282261 ],\n",
       "       [0.1352736 ],\n",
       "       [0.13751052],\n",
       "       [0.13642814],\n",
       "       [0.13515334],\n",
       "       [0.1409982 ],\n",
       "       [0.15073963],\n",
       "       [0.15309681],\n",
       "       [0.15134095],\n",
       "       [0.1530006 ],\n",
       "       [0.15817198],\n",
       "       [0.15720986],\n",
       "       [0.15665664],\n",
       "       [0.14410102],\n",
       "       [0.14960914],\n",
       "       [0.15085989],\n",
       "       [0.15309681],\n",
       "       [0.15263981],\n",
       "       [0.15153337],\n",
       "       [0.15280818],\n",
       "       [0.1521828 ],\n",
       "       [0.15232712],\n",
       "       [0.1501383 ],\n",
       "       [0.15114853],\n",
       "       [0.15660854],\n",
       "       [0.1529525 ],\n",
       "       [0.15420325],\n",
       "       [0.15641612],\n",
       "       [0.1555021 ],\n",
       "       [0.1410463 ],\n",
       "       [0.13248346],\n",
       "       [0.13529765],\n",
       "       [0.13185809],\n",
       "       [0.12976548],\n",
       "       [0.12490679],\n",
       "       [0.13469633],\n",
       "       [0.13149729],\n",
       "       [0.13356584],\n",
       "       [0.13298857],\n",
       "       [0.13455201],\n",
       "       [0.13344558],\n",
       "       [0.12841852],\n",
       "       [0.13346963],\n",
       "       [0.12829826],\n",
       "       [0.12911606],\n",
       "       [0.1278653 ],\n",
       "       [0.12928443],\n",
       "       [0.12601323],\n",
       "       [0.1295009 ],\n",
       "       [0.13161756],\n",
       "       [0.13274805],\n",
       "       [0.13325316],\n",
       "       [0.1381359 ],\n",
       "       [0.14119062],\n",
       "       [0.14244137],\n",
       "       [0.14369212],\n",
       "       [0.1459531 ],\n",
       "       [0.1443175 ],\n",
       "       [0.14414913],\n",
       "       [0.14852676],\n",
       "       [0.1500902 ],\n",
       "       [0.15182201],\n",
       "       [0.14484666],\n",
       "       [0.14229705],\n",
       "       [0.14044498],\n",
       "       [0.14361996],\n",
       "       [0.16067348],\n",
       "       [0.15689717],\n",
       "       [0.15886951],\n",
       "       [0.16469032],\n",
       "       [0.16774504],\n",
       "       [0.17010222],\n",
       "       [0.15629585],\n",
       "       [0.16149128],\n",
       "       [0.16719182],\n",
       "       [0.17140108],\n",
       "       [0.16983764],\n",
       "       [0.16240529],\n",
       "       [0.16153939],\n",
       "       [0.16084185],\n",
       "       [0.16702345],\n",
       "       [0.16750451],\n",
       "       [0.16579675],\n",
       "       [0.16721587],\n",
       "       [0.17108839],\n",
       "       [0.17455201],\n",
       "       [0.17561034],\n",
       "       [0.17717378],\n",
       "       [0.17729405],\n",
       "       [0.17255562],\n",
       "       [0.17214672],\n",
       "       [0.17058328],\n",
       "       [0.16425737],\n",
       "       [0.17116055],\n",
       "       [0.16962117],\n",
       "       [0.16671076],\n",
       "       [0.16341551],\n",
       "       [0.16726398],\n",
       "       [0.16435358],\n",
       "       [0.1644979 ],\n",
       "       [0.15809982],\n",
       "       [0.15165364],\n",
       "       [0.1480457 ],\n",
       "       [0.14482261],\n",
       "       [0.15105232],\n",
       "       [0.15367408],\n",
       "       [0.15138906],\n",
       "       [0.1534095 ],\n",
       "       [0.15266386],\n",
       "       [0.15427541],\n",
       "       [0.15187011],\n",
       "       [0.15646422],\n",
       "       [0.15624775],\n",
       "       [0.1575466 ],\n",
       "       [0.15769092],\n",
       "       [0.15925436],\n",
       "       [0.15793145],\n",
       "       [0.16031269],\n",
       "       [0.16726398],\n",
       "       [0.1686831 ],\n",
       "       [0.16697535],\n",
       "       [0.15788334],\n",
       "       [0.15853277],\n",
       "       [0.15834035],\n",
       "       [0.16057727],\n",
       "       [0.15891762],\n",
       "       [0.16132291],\n",
       "       [0.17488876],\n",
       "       [0.18371618],\n",
       "       [0.18929645],\n",
       "       [0.18412508],\n",
       "       [0.18705953],\n",
       "       [0.19761876],\n",
       "       [0.20182802],\n",
       "       [0.20317498],\n",
       "       [0.20661455],\n",
       "       [0.20574865],\n",
       "       [0.20283824],\n",
       "       [0.20115454],\n",
       "       [0.19482862],\n",
       "       [0.18939266],\n",
       "       [0.19425135],\n",
       "       [0.19196633],\n",
       "       [0.19155743],\n",
       "       [0.19915815],\n",
       "       [0.20353578],\n",
       "       [0.20355983],\n",
       "       [0.20144317],\n",
       "       [0.19898978],\n",
       "       [0.19035478],\n",
       "       [0.19605532],\n",
       "       [0.19413109],\n",
       "       [0.19112447],\n",
       "       [0.19073963],\n",
       "       [0.18922429],\n",
       "       [0.18996993],\n",
       "       [0.1900902 ],\n",
       "       [0.19802766],\n",
       "       [0.19569453],\n",
       "       [0.19706554],\n",
       "       [0.19694528],\n",
       "       [0.20115454],\n",
       "       [0.2070475 ],\n",
       "       [0.20252556],\n",
       "       [0.20206855],\n",
       "       [0.20365604],\n",
       "       [0.20365604],\n",
       "       [0.19297655],\n",
       "       [0.19304871],\n",
       "       [0.19420325],\n",
       "       [0.18975346],\n",
       "       [0.19704149],\n",
       "       [0.19696933],\n",
       "       [0.19889357],\n",
       "       [0.20363199],\n",
       "       [0.20206855],\n",
       "       [0.20202044],\n",
       "       [0.20192423],\n",
       "       [0.20430547],\n",
       "       [0.20865905],\n",
       "       [0.20649429],\n",
       "       [0.21349369],\n",
       "       [0.21387853],\n",
       "       [0.2119543 ],\n",
       "       [0.20844257],\n",
       "       [0.20853879],\n",
       "       [0.20175586],\n",
       "       [0.19427541],\n",
       "       [0.19523752],\n",
       "       [0.18669874],\n",
       "       [0.1843175 ],\n",
       "       [0.18542393],\n",
       "       [0.18626578],\n",
       "       [0.16875526],\n",
       "       [0.15911004],\n",
       "       [0.17484065],\n",
       "       [0.16644618],\n",
       "       [0.15588695],\n",
       "       [0.15891762],\n",
       "       [0.17407096],\n",
       "       [0.17799158],\n",
       "       [0.18527962],\n",
       "       [0.19879735],\n",
       "       [0.19745039],\n",
       "       [0.19605532],\n",
       "       [0.19417919],\n",
       "       [0.19761876],\n",
       "       [0.20483464],\n",
       "       [0.213181  ],\n",
       "       [0.21178593],\n",
       "       [0.2111365 ],\n",
       "       [0.20363199],\n",
       "       [0.20654239],\n",
       "       [0.20800962],\n",
       "       [0.20764883],\n",
       "       [0.20370415],\n",
       "       [0.20829826],\n",
       "       [0.21561034],\n",
       "       [0.21979555],\n",
       "       [0.21558629],\n",
       "       [0.21190619],\n",
       "       [0.2124113 ],\n",
       "       [0.21089597],\n",
       "       [0.20435358],\n",
       "       [0.20420926],\n",
       "       [0.19466025],\n",
       "       [0.18883945],\n",
       "       [0.17943476],\n",
       "       [0.19826819],\n",
       "       [0.18761275],\n",
       "       [0.18313891],\n",
       "       [0.18626578],\n",
       "       [0.18361996],\n",
       "       [0.18773301],\n",
       "       [0.19547805],\n",
       "       [0.19834035],\n",
       "       [0.18770896],\n",
       "       [0.1917258 ],\n",
       "       [0.19942273],\n",
       "       [0.19747444],\n",
       "       [0.20156344],\n",
       "       [0.20298256],\n",
       "       [0.20560433],\n",
       "       [0.21142514],\n",
       "       [0.21046302],\n",
       "       [0.19834035],\n",
       "       [0.18131088],\n",
       "       [0.18015634],\n",
       "       [0.17462417],\n",
       "       [0.17633193],\n",
       "       [0.17770295],\n",
       "       [0.17313289],\n",
       "       [0.18020445],\n",
       "       [0.18944077],\n",
       "       [0.2074083 ],\n",
       "       [0.20817799],\n",
       "       [0.22487072],\n",
       "       [0.22806975],\n",
       "       [0.23021046],\n",
       "       [0.2333614 ],\n",
       "       [0.23980758],\n",
       "       [0.2363199 ],\n",
       "       [0.23526158],\n",
       "       [0.23114853],\n",
       "       [0.23533373],\n",
       "       [0.23247144],\n",
       "       [0.23083584],\n",
       "       [0.23401082],\n",
       "       [0.23288034],\n",
       "       [0.23576669],\n",
       "       [0.23526158],\n",
       "       [0.23629585],\n",
       "       [0.23466025],\n",
       "       [0.23369814],\n",
       "       [0.2321828 ],\n",
       "       [0.24028863],\n",
       "       [0.24411305],\n",
       "       [0.24767288],\n",
       "       [0.24928443],\n",
       "       [0.24803367],\n",
       "       [0.24380036],\n",
       "       [0.24266987],\n",
       "       [0.24519543],\n",
       "       [0.24139507],\n",
       "       [0.2416356 ],\n",
       "       [0.23692123],\n",
       "       [0.2366807 ],\n",
       "       [0.22934456],\n",
       "       [0.23129284],\n",
       "       [0.22879134],\n",
       "       [0.22749248],\n",
       "       [0.22087793],\n",
       "       [0.22631389],\n",
       "       [0.22566446],\n",
       "       [0.22888755],\n",
       "       [0.22794949],\n",
       "       [0.23292844],\n",
       "       [0.22508719],\n",
       "       [0.22864702],\n",
       "       [0.23482862],\n",
       "       [0.24110643],\n",
       "       [0.24055322],\n",
       "       [0.23461215],\n",
       "       [0.24218882],\n",
       "       [0.2429104 ],\n",
       "       [0.24190018],\n",
       "       [0.24319904],\n",
       "       [0.24067348],\n",
       "       [0.24423331],\n",
       "       [0.24317498],\n",
       "       [0.24358388],\n",
       "       [0.24692724],\n",
       "       [0.25130487],\n",
       "       [0.24983764],\n",
       "       [0.24206855],\n",
       "       [0.23949489],\n",
       "       [0.2404089 ],\n",
       "       [0.26737222],\n",
       "       [0.28153939],\n",
       "       [0.28298256],\n",
       "       [0.28558028],\n",
       "       [0.2808659 ],\n",
       "       [0.28120265],\n",
       "       [0.28512327],\n",
       "       [0.28187613],\n",
       "       [0.28509922],\n",
       "       [0.28721587],\n",
       "       [0.28839447],\n",
       "       [0.29580277],\n",
       "       [0.30604931],\n",
       "       [0.30095009],\n",
       "       [0.29993987],\n",
       "       [0.29996392],\n",
       "       [0.30102225],\n",
       "       [0.30263379],\n",
       "       [0.30691521],\n",
       "       [0.31114853],\n",
       "       [0.31903788],\n",
       "       [0.32396873],\n",
       "       [0.33022249],\n",
       "       [0.33197835],\n",
       "       [0.32839447],\n",
       "       [0.31932652],\n",
       "       [0.31499699],\n",
       "       [0.30785328],\n",
       "       [0.32113049],\n",
       "       [0.31444378],\n",
       "       [0.32728803],\n",
       "       [0.32110643],\n",
       "       [0.3067709 ],\n",
       "       [0.3076368 ],\n",
       "       [0.30794949],\n",
       "       [0.31194227],\n",
       "       [0.30624173],\n",
       "       [0.31377029],\n",
       "       [0.3171377 ],\n",
       "       [0.31288034],\n",
       "       [0.32377631],\n",
       "       [0.32567649],\n",
       "       [0.32933253],\n",
       "       [0.33419122],\n",
       "       [0.34090198],\n",
       "       [0.33108839],\n",
       "       [0.32218882],\n",
       "       [0.32093806],\n",
       "       [0.32839447],\n",
       "       [0.30311485],\n",
       "       [0.29852075],\n",
       "       [0.31694528],\n",
       "       [0.30552014],\n",
       "       [0.31704149],\n",
       "       [0.31473241],\n",
       "       [0.30229705],\n",
       "       [0.31021046],\n",
       "       [0.31343355],\n",
       "       [0.31843656],\n",
       "       [0.30006013],\n",
       "       [0.31138906],\n",
       "       [0.30297054],\n",
       "       [0.29320505],\n",
       "       [0.29575466],\n",
       "       [0.30912808],\n",
       "       [0.31720986],\n",
       "       [0.28175586],\n",
       "       [0.2675887 ],\n",
       "       [0.27283223],\n",
       "       [0.28769693],\n",
       "       [0.28418521],\n",
       "       [0.27451594],\n",
       "       [0.24974143],\n",
       "       [0.24507517],\n",
       "       [0.23201443],\n",
       "       [0.24310283],\n",
       "       [0.24820204],\n",
       "       [0.22975346],\n",
       "       [0.20839447],\n",
       "       [0.20791341],\n",
       "       [0.19711365],\n",
       "       [0.20271798],\n",
       "       [0.20180397],\n",
       "       [0.21791942],\n",
       "       [0.21457607],\n",
       "       [0.21224293],\n",
       "       [0.22725195],\n",
       "       [0.20769693],\n",
       "       [0.20295851],\n",
       "       [0.18797354],\n",
       "       [0.19064342],\n",
       "       [0.18831028],\n",
       "       [0.18944077],\n",
       "       [0.19389056],\n",
       "       [0.18073361],\n",
       "       [0.17702946],\n",
       "       [0.18215274],\n",
       "       [0.16969333],\n",
       "       [0.15992784],\n",
       "       [0.14525556],\n",
       "       [0.13587492],\n",
       "       [0.16074564],\n",
       "       [0.15829224],\n",
       "       [0.15848467],\n",
       "       [0.16211666],\n",
       "       [0.16254961],\n",
       "       [0.12471437],\n",
       "       [0.13931449],\n",
       "       [0.13852075],\n",
       "       [0.14530367],\n",
       "       [0.15146121],\n",
       "       [0.15263981],\n",
       "       [0.14900782],\n",
       "       [0.1434997 ],\n",
       "       [0.15088394],\n",
       "       [0.15538184],\n",
       "       [0.15759471],\n",
       "       [0.15990379],\n",
       "       [0.15143716],\n",
       "       [0.15292844],\n",
       "       [0.14999399],\n",
       "       [0.16216476],\n",
       "       [0.15865304],\n",
       "       [0.15475646],\n",
       "       [0.1801804 ],\n",
       "       [0.18304269],\n",
       "       [0.18323512],\n",
       "       [0.19461215],\n",
       "       [0.20165965],\n",
       "       [0.20180397],\n",
       "       [0.19386651],\n",
       "       [0.1925917 ],\n",
       "       [0.19023452],\n",
       "       [0.19374624],\n",
       "       [0.19203848],\n",
       "       [0.19352977],\n",
       "       [0.19261575],\n",
       "       [0.19384245],\n",
       "       [0.19648827],\n",
       "       [0.19415514],\n",
       "       [0.19874925],\n",
       "       [0.20177992],\n",
       "       [0.20202044],\n",
       "       [0.2033193 ],\n",
       "       [0.1991822 ],\n",
       "       [0.20355983],\n",
       "       [0.20567649],\n",
       "       [0.20490679],\n",
       "       [0.20247745],\n",
       "       [0.19761876],\n",
       "       [0.19860493],\n",
       "       [0.21301263],\n",
       "       [0.21784726],\n",
       "       [0.2197715 ],\n",
       "       [0.22463019],\n",
       "       [0.23037883]])"
      ]
     },
     "execution_count": 11,
     "metadata": {
      "tags": []
     },
     "output_type": "execute_result"
    }
   ],
   "source": [
    "train_data"
   ]
  },
  {
   "cell_type": "code",
   "execution_count": 12,
   "metadata": {
    "colab": {
     "base_uri": "https://localhost:8080/"
    },
    "id": "06OqRCPoeuWV",
    "outputId": "0d2b6198-18df-4539-a967-bdd79136a0aa"
   },
   "outputs": [
    {
     "name": "stdout",
     "output_type": "stream",
     "text": [
      "<class 'numpy.ndarray'>\n"
     ]
    }
   ],
   "source": [
    "print(type(train_data))"
   ]
  },
  {
   "cell_type": "code",
   "execution_count": 13,
   "metadata": {
    "colab": {
     "base_uri": "https://localhost:8080/"
    },
    "id": "Dsvizi7ke0xy",
    "outputId": "c6e0e86a-9312-4b86-87c2-7cfcd38d0446"
   },
   "outputs": [
    {
     "data": {
      "text/plain": [
       "array([0.04846663])"
      ]
     },
     "execution_count": 13,
     "metadata": {
      "tags": []
     },
     "output_type": "execute_result"
    }
   ],
   "source": [
    "train_data[0]"
   ]
  },
  {
   "cell_type": "code",
   "execution_count": 14,
   "metadata": {
    "colab": {
     "base_uri": "https://localhost:8080/"
    },
    "id": "9N-BsYgSe2ky",
    "outputId": "ead6c1ea-2504-44e2-8c41-fca7b0521a9c"
   },
   "outputs": [
    {
     "data": {
      "text/plain": [
       "array([0.04846663, 0.05051112, 0.04483464, 0.03773903, 0.0408659 ,\n",
       "       0.04062538, 0.04394468, 0.04254961, 0.03963921, 0.04425737,\n",
       "       0.04084185, 0.03588695, 0.03610343, 0.02975346, 0.02491882,\n",
       "       0.01469633, 0.01592303, 0.01969934, 0.02313891, 0.01695731,\n",
       "       0.02208058, 0.01633193, 0.01520144, 0.01551413, 0.01433554,\n",
       "       0.02665063, 0.02188815, 0.02321106, 0.0074083 , 0.00901984,\n",
       "       0.01683704, 0.01464823, 0.00995791, 0.0144558 , 0.01505713,\n",
       "       0.00885147, 0.01123271, 0.01118461, 0.0094528 , 0.00808178,\n",
       "       0.00877931, 0.01515334, 0.01871317, 0.01423933, 0.01371016,\n",
       "       0.01573061, 0.01046302, 0.01385448, 0.01544197, 0.01580277,\n",
       "       0.0152736 , 0.02450992, 0.02503909, 0.02684305, 0.03047505,\n",
       "       0.02773301, 0.02571257, 0.02592904, 0.02604931, 0.02867108,\n",
       "       0.02929645, 0.03425135, 0.03759471, 0.03718581, 0.03747444,\n",
       "       0.03745039, 0.03939868, 0.03797956, 0.03687312, 0.03571858,\n",
       "       0.04170776, 0.04622971, 0.04485869, 0.04726398, 0.04998196,\n",
       "       0.04683103, 0.04959711, 0.04377631, 0.04406494, 0.04493085,\n",
       "       0.04834636, 0.05219483, 0.05233915, 0.04692724, 0.0412267 ,\n",
       "       0.03985568, 0.04038485, 0.03759471, 0.03689717, 0.035454  ,\n",
       "       0.03369814, 0.01799158, 0.01079976, 0.00817799, 0.00793746,\n",
       "       0.01164161, 0.00926037, 0.00697535, 0.00572459, 0.00589296])"
      ]
     },
     "execution_count": 14,
     "metadata": {
      "tags": []
     },
     "output_type": "execute_result"
    }
   ],
   "source": [
    "train_data[0:100,0]"
   ]
  },
  {
   "cell_type": "code",
   "execution_count": 16,
   "metadata": {
    "id": "orRme47LfFt9"
   },
   "outputs": [],
   "source": [
    "import numpy\n",
    "# reshape into X=t,t+1,t+2,t+3 and Y=t+4\n",
    "time_step = 100\n",
    "X_train, y_train = create_dataset(train_data, time_step)\n",
    "X_test, ytest = create_dataset(test_data, time_step)"
   ]
  },
  {
   "cell_type": "code",
   "execution_count": 17,
   "metadata": {
    "colab": {
     "base_uri": "https://localhost:8080/"
    },
    "id": "ZxdzOeEFfM3d",
    "outputId": "35f1551c-45bb-4236-9835-0c13dce50e56"
   },
   "outputs": [
    {
     "name": "stdout",
     "output_type": "stream",
     "text": [
      "(716, 100)\n",
      "(716,)\n"
     ]
    },
    {
     "data": {
      "text/plain": [
       "(None, None)"
      ]
     },
     "execution_count": 17,
     "metadata": {
      "tags": []
     },
     "output_type": "execute_result"
    }
   ],
   "source": [
    "print(X_train.shape), print(y_train.shape)"
   ]
  },
  {
   "cell_type": "code",
   "execution_count": 18,
   "metadata": {
    "colab": {
     "base_uri": "https://localhost:8080/"
    },
    "id": "tXF5VsQjfUfe",
    "outputId": "416f5390-2596-40b3-f346-6c099a909b3e"
   },
   "outputs": [
    {
     "name": "stdout",
     "output_type": "stream",
     "text": [
      "(340, 100)\n",
      "(340,)\n"
     ]
    },
    {
     "data": {
      "text/plain": [
       "(None, None)"
      ]
     },
     "execution_count": 18,
     "metadata": {
      "tags": []
     },
     "output_type": "execute_result"
    }
   ],
   "source": [
    "print(X_test.shape), print(ytest.shape)"
   ]
  },
  {
   "cell_type": "code",
   "execution_count": 19,
   "metadata": {
    "id": "np470EPefXGV"
   },
   "outputs": [],
   "source": [
    "# reshape input to be [samples, time steps, features] which is required for LSTM\n",
    "X_train =X_train.reshape(X_train.shape[0],X_train.shape[1] , 1)\n",
    "X_test = X_test.reshape(X_test.shape[0],X_test.shape[1] , 1)"
   ]
  },
  {
   "cell_type": "code",
   "execution_count": 20,
   "metadata": {
    "colab": {
     "base_uri": "https://localhost:8080/"
    },
    "id": "9vwHEL8ffm76",
    "outputId": "5b0207cd-4ba8-477d-a8b7-06fa98804aa7"
   },
   "outputs": [
    {
     "name": "stdout",
     "output_type": "stream",
     "text": [
      "Model: \"sequential\"\n",
      "_________________________________________________________________\n",
      "Layer (type)                 Output Shape              Param #   \n",
      "=================================================================\n",
      "lstm (LSTM)                  (None, 100, 50)           10400     \n",
      "_________________________________________________________________\n",
      "lstm_1 (LSTM)                (None, 100, 50)           20200     \n",
      "_________________________________________________________________\n",
      "lstm_2 (LSTM)                (None, 50)                20200     \n",
      "_________________________________________________________________\n",
      "dense (Dense)                (None, 1)                 51        \n",
      "=================================================================\n",
      "Total params: 50,851\n",
      "Trainable params: 50,851\n",
      "Non-trainable params: 0\n",
      "_________________________________________________________________\n"
     ]
    }
   ],
   "source": [
    "### Create the Stacked LSTM model\n",
    "from tensorflow.keras.models import Sequential\n",
    "from tensorflow.keras.layers import Dense\n",
    "from tensorflow.keras.layers import LSTM\n",
    "model=Sequential()\n",
    "model.add(LSTM(50,return_sequences=True,input_shape=(100,1)))\n",
    "model.add(LSTM(50,return_sequences=True))\n",
    "model.add(LSTM(50))\n",
    "model.add(Dense(1))\n",
    "model.compile(loss='mean_squared_error',optimizer='adam')\n",
    "model.summary()"
   ]
  },
  {
   "cell_type": "code",
   "execution_count": 21,
   "metadata": {
    "colab": {
     "base_uri": "https://localhost:8080/"
    },
    "id": "Urn9xXKdfzbX",
    "outputId": "f45440fa-0244-4719-d8a3-09d656c678f2"
   },
   "outputs": [
    {
     "name": "stdout",
     "output_type": "stream",
     "text": [
      "Epoch 1/100\n",
      "12/12 [==============================] - 3s 255ms/step - loss: 0.0102 - val_loss: 0.0539\n",
      "Epoch 2/100\n",
      "12/12 [==============================] - 2s 171ms/step - loss: 0.0024 - val_loss: 0.0215\n",
      "Epoch 3/100\n",
      "12/12 [==============================] - 2s 173ms/step - loss: 0.0010 - val_loss: 0.0202\n",
      "Epoch 4/100\n",
      "12/12 [==============================] - 2s 177ms/step - loss: 4.8581e-04 - val_loss: 0.0197\n",
      "Epoch 5/100\n",
      "12/12 [==============================] - 2s 174ms/step - loss: 3.8883e-04 - val_loss: 0.0192\n",
      "Epoch 6/100\n",
      "12/12 [==============================] - 2s 173ms/step - loss: 3.4189e-04 - val_loss: 0.0188\n",
      "Epoch 7/100\n",
      "12/12 [==============================] - 2s 172ms/step - loss: 3.5129e-04 - val_loss: 0.0183\n",
      "Epoch 8/100\n",
      "12/12 [==============================] - 2s 171ms/step - loss: 3.3966e-04 - val_loss: 0.0180\n",
      "Epoch 9/100\n",
      "12/12 [==============================] - 2s 172ms/step - loss: 3.0380e-04 - val_loss: 0.0173\n",
      "Epoch 10/100\n",
      "12/12 [==============================] - 2s 174ms/step - loss: 3.5931e-04 - val_loss: 0.0169\n",
      "Epoch 11/100\n",
      "12/12 [==============================] - 2s 174ms/step - loss: 2.9610e-04 - val_loss: 0.0168\n",
      "Epoch 12/100\n",
      "12/12 [==============================] - 2s 175ms/step - loss: 2.6925e-04 - val_loss: 0.0164\n",
      "Epoch 13/100\n",
      "12/12 [==============================] - 2s 175ms/step - loss: 2.5762e-04 - val_loss: 0.0157\n",
      "Epoch 14/100\n",
      "12/12 [==============================] - 2s 175ms/step - loss: 2.6074e-04 - val_loss: 0.0154\n",
      "Epoch 15/100\n",
      "12/12 [==============================] - 2s 175ms/step - loss: 2.5381e-04 - val_loss: 0.0154\n",
      "Epoch 16/100\n",
      "12/12 [==============================] - 2s 175ms/step - loss: 2.2898e-04 - val_loss: 0.0145\n",
      "Epoch 17/100\n",
      "12/12 [==============================] - 2s 177ms/step - loss: 2.3233e-04 - val_loss: 0.0153\n",
      "Epoch 18/100\n",
      "12/12 [==============================] - 2s 175ms/step - loss: 2.5417e-04 - val_loss: 0.0139\n",
      "Epoch 19/100\n",
      "12/12 [==============================] - 2s 175ms/step - loss: 2.2270e-04 - val_loss: 0.0132\n",
      "Epoch 20/100\n",
      "12/12 [==============================] - 2s 175ms/step - loss: 2.2572e-04 - val_loss: 0.0143\n",
      "Epoch 21/100\n",
      "12/12 [==============================] - 2s 176ms/step - loss: 1.9506e-04 - val_loss: 0.0136\n",
      "Epoch 22/100\n",
      "12/12 [==============================] - 2s 173ms/step - loss: 1.8821e-04 - val_loss: 0.0135\n",
      "Epoch 23/100\n",
      "12/12 [==============================] - 2s 176ms/step - loss: 1.8548e-04 - val_loss: 0.0135\n",
      "Epoch 24/100\n",
      "12/12 [==============================] - 2s 177ms/step - loss: 1.9341e-04 - val_loss: 0.0149\n",
      "Epoch 25/100\n",
      "12/12 [==============================] - 2s 176ms/step - loss: 1.9958e-04 - val_loss: 0.0136\n",
      "Epoch 26/100\n",
      "12/12 [==============================] - 2s 176ms/step - loss: 1.8136e-04 - val_loss: 0.0147\n",
      "Epoch 27/100\n",
      "12/12 [==============================] - 2s 175ms/step - loss: 1.8982e-04 - val_loss: 0.0132\n",
      "Epoch 28/100\n",
      "12/12 [==============================] - 2s 174ms/step - loss: 1.9060e-04 - val_loss: 0.0133\n",
      "Epoch 29/100\n",
      "12/12 [==============================] - 2s 177ms/step - loss: 1.8382e-04 - val_loss: 0.0128\n",
      "Epoch 30/100\n",
      "12/12 [==============================] - 2s 177ms/step - loss: 1.8017e-04 - val_loss: 0.0131\n",
      "Epoch 31/100\n",
      "12/12 [==============================] - 2s 176ms/step - loss: 1.7338e-04 - val_loss: 0.0126\n",
      "Epoch 32/100\n",
      "12/12 [==============================] - 2s 175ms/step - loss: 1.6815e-04 - val_loss: 0.0135\n",
      "Epoch 33/100\n",
      "12/12 [==============================] - 2s 178ms/step - loss: 2.0106e-04 - val_loss: 0.0122\n",
      "Epoch 34/100\n",
      "12/12 [==============================] - 2s 175ms/step - loss: 1.9629e-04 - val_loss: 0.0128\n",
      "Epoch 35/100\n",
      "12/12 [==============================] - 2s 174ms/step - loss: 1.7953e-04 - val_loss: 0.0124\n",
      "Epoch 36/100\n",
      "12/12 [==============================] - 2s 174ms/step - loss: 1.7060e-04 - val_loss: 0.0124\n",
      "Epoch 37/100\n",
      "12/12 [==============================] - 2s 175ms/step - loss: 1.7076e-04 - val_loss: 0.0118\n",
      "Epoch 38/100\n",
      "12/12 [==============================] - 2s 175ms/step - loss: 1.9828e-04 - val_loss: 0.0120\n",
      "Epoch 39/100\n",
      "12/12 [==============================] - 2s 173ms/step - loss: 1.6022e-04 - val_loss: 0.0118\n",
      "Epoch 40/100\n",
      "12/12 [==============================] - 2s 174ms/step - loss: 1.6205e-04 - val_loss: 0.0116\n",
      "Epoch 41/100\n",
      "12/12 [==============================] - 2s 172ms/step - loss: 1.5731e-04 - val_loss: 0.0125\n",
      "Epoch 42/100\n",
      "12/12 [==============================] - 2s 173ms/step - loss: 1.6820e-04 - val_loss: 0.0119\n",
      "Epoch 43/100\n",
      "12/12 [==============================] - 2s 175ms/step - loss: 1.5807e-04 - val_loss: 0.0116\n",
      "Epoch 44/100\n",
      "12/12 [==============================] - 2s 172ms/step - loss: 1.8269e-04 - val_loss: 0.0123\n",
      "Epoch 45/100\n",
      "12/12 [==============================] - 2s 173ms/step - loss: 1.5580e-04 - val_loss: 0.0114\n",
      "Epoch 46/100\n",
      "12/12 [==============================] - 2s 174ms/step - loss: 1.5571e-04 - val_loss: 0.0112\n",
      "Epoch 47/100\n",
      "12/12 [==============================] - 2s 173ms/step - loss: 1.6015e-04 - val_loss: 0.0116\n",
      "Epoch 48/100\n",
      "12/12 [==============================] - 2s 174ms/step - loss: 1.5126e-04 - val_loss: 0.0113\n",
      "Epoch 49/100\n",
      "12/12 [==============================] - 2s 172ms/step - loss: 1.4764e-04 - val_loss: 0.0115\n",
      "Epoch 50/100\n",
      "12/12 [==============================] - 2s 174ms/step - loss: 1.5115e-04 - val_loss: 0.0114\n",
      "Epoch 51/100\n",
      "12/12 [==============================] - 2s 173ms/step - loss: 1.4112e-04 - val_loss: 0.0109\n",
      "Epoch 52/100\n",
      "12/12 [==============================] - 2s 174ms/step - loss: 1.5794e-04 - val_loss: 0.0111\n",
      "Epoch 53/100\n",
      "12/12 [==============================] - 2s 174ms/step - loss: 1.4761e-04 - val_loss: 0.0107\n",
      "Epoch 54/100\n",
      "12/12 [==============================] - 2s 174ms/step - loss: 1.4354e-04 - val_loss: 0.0105\n",
      "Epoch 55/100\n",
      "12/12 [==============================] - 2s 173ms/step - loss: 1.5051e-04 - val_loss: 0.0106\n",
      "Epoch 56/100\n",
      "12/12 [==============================] - 2s 173ms/step - loss: 1.5321e-04 - val_loss: 0.0105\n",
      "Epoch 57/100\n",
      "12/12 [==============================] - 2s 174ms/step - loss: 1.3901e-04 - val_loss: 0.0103\n",
      "Epoch 58/100\n",
      "12/12 [==============================] - 2s 173ms/step - loss: 1.3631e-04 - val_loss: 0.0105\n",
      "Epoch 59/100\n",
      "12/12 [==============================] - 2s 175ms/step - loss: 1.4367e-04 - val_loss: 0.0106\n",
      "Epoch 60/100\n",
      "12/12 [==============================] - 2s 172ms/step - loss: 1.4760e-04 - val_loss: 0.0100\n",
      "Epoch 61/100\n",
      "12/12 [==============================] - 2s 173ms/step - loss: 1.4506e-04 - val_loss: 0.0103\n",
      "Epoch 62/100\n",
      "12/12 [==============================] - 2s 174ms/step - loss: 1.4217e-04 - val_loss: 0.0099\n",
      "Epoch 63/100\n",
      "12/12 [==============================] - 2s 173ms/step - loss: 1.5008e-04 - val_loss: 0.0098\n",
      "Epoch 64/100\n",
      "12/12 [==============================] - 2s 173ms/step - loss: 1.4168e-04 - val_loss: 0.0096\n",
      "Epoch 65/100\n",
      "12/12 [==============================] - 2s 173ms/step - loss: 1.2799e-04 - val_loss: 0.0098\n",
      "Epoch 66/100\n",
      "12/12 [==============================] - 2s 176ms/step - loss: 1.4192e-04 - val_loss: 0.0095\n",
      "Epoch 67/100\n",
      "12/12 [==============================] - 2s 172ms/step - loss: 1.5297e-04 - val_loss: 0.0095\n",
      "Epoch 68/100\n",
      "12/12 [==============================] - 2s 173ms/step - loss: 1.4910e-04 - val_loss: 0.0095\n",
      "Epoch 69/100\n",
      "12/12 [==============================] - 2s 175ms/step - loss: 1.3346e-04 - val_loss: 0.0093\n",
      "Epoch 70/100\n",
      "12/12 [==============================] - 2s 174ms/step - loss: 1.2498e-04 - val_loss: 0.0093\n",
      "Epoch 71/100\n",
      "12/12 [==============================] - 2s 174ms/step - loss: 1.2536e-04 - val_loss: 0.0089\n",
      "Epoch 72/100\n",
      "12/12 [==============================] - 2s 173ms/step - loss: 1.3741e-04 - val_loss: 0.0091\n",
      "Epoch 73/100\n",
      "12/12 [==============================] - 2s 175ms/step - loss: 1.2638e-04 - val_loss: 0.0095\n",
      "Epoch 74/100\n",
      "12/12 [==============================] - 2s 172ms/step - loss: 1.2503e-04 - val_loss: 0.0087\n",
      "Epoch 75/100\n",
      "12/12 [==============================] - 2s 172ms/step - loss: 1.2004e-04 - val_loss: 0.0089\n",
      "Epoch 76/100\n",
      "12/12 [==============================] - 2s 175ms/step - loss: 1.1701e-04 - val_loss: 0.0086\n",
      "Epoch 77/100\n",
      "12/12 [==============================] - 2s 174ms/step - loss: 1.3196e-04 - val_loss: 0.0088\n",
      "Epoch 78/100\n",
      "12/12 [==============================] - 2s 174ms/step - loss: 1.1889e-04 - val_loss: 0.0084\n",
      "Epoch 79/100\n",
      "12/12 [==============================] - 2s 176ms/step - loss: 1.2427e-04 - val_loss: 0.0086\n",
      "Epoch 80/100\n",
      "12/12 [==============================] - 2s 176ms/step - loss: 1.1086e-04 - val_loss: 0.0080\n",
      "Epoch 81/100\n",
      "12/12 [==============================] - 2s 173ms/step - loss: 1.2974e-04 - val_loss: 0.0080\n",
      "Epoch 82/100\n",
      "12/12 [==============================] - 2s 174ms/step - loss: 1.2852e-04 - val_loss: 0.0082\n",
      "Epoch 83/100\n",
      "12/12 [==============================] - 2s 174ms/step - loss: 1.0976e-04 - val_loss: 0.0081\n",
      "Epoch 84/100\n",
      "12/12 [==============================] - 2s 176ms/step - loss: 1.0940e-04 - val_loss: 0.0078\n",
      "Epoch 85/100\n",
      "12/12 [==============================] - 2s 174ms/step - loss: 1.1541e-04 - val_loss: 0.0084\n",
      "Epoch 86/100\n",
      "12/12 [==============================] - 2s 175ms/step - loss: 1.1216e-04 - val_loss: 0.0075\n",
      "Epoch 87/100\n",
      "12/12 [==============================] - 2s 175ms/step - loss: 1.1224e-04 - val_loss: 0.0076\n",
      "Epoch 88/100\n",
      "12/12 [==============================] - 2s 175ms/step - loss: 1.1346e-04 - val_loss: 0.0072\n",
      "Epoch 89/100\n",
      "12/12 [==============================] - 2s 173ms/step - loss: 1.1669e-04 - val_loss: 0.0076\n",
      "Epoch 90/100\n",
      "12/12 [==============================] - 2s 175ms/step - loss: 1.0844e-04 - val_loss: 0.0072\n",
      "Epoch 91/100\n",
      "12/12 [==============================] - 2s 174ms/step - loss: 1.1038e-04 - val_loss: 0.0073\n",
      "Epoch 92/100\n",
      "12/12 [==============================] - 2s 176ms/step - loss: 1.0204e-04 - val_loss: 0.0070\n",
      "Epoch 93/100\n",
      "12/12 [==============================] - 2s 175ms/step - loss: 1.0807e-04 - val_loss: 0.0073\n",
      "Epoch 94/100\n",
      "12/12 [==============================] - 2s 174ms/step - loss: 1.0736e-04 - val_loss: 0.0066\n",
      "Epoch 95/100\n",
      "12/12 [==============================] - 2s 175ms/step - loss: 1.0495e-04 - val_loss: 0.0066\n",
      "Epoch 96/100\n",
      "12/12 [==============================] - 2s 176ms/step - loss: 1.0064e-04 - val_loss: 0.0070\n",
      "Epoch 97/100\n",
      "12/12 [==============================] - 2s 175ms/step - loss: 1.0330e-04 - val_loss: 0.0063\n",
      "Epoch 98/100\n",
      "12/12 [==============================] - 2s 176ms/step - loss: 1.0753e-04 - val_loss: 0.0066\n",
      "Epoch 99/100\n",
      "12/12 [==============================] - 2s 173ms/step - loss: 9.7298e-05 - val_loss: 0.0064\n",
      "Epoch 100/100\n",
      "12/12 [==============================] - 2s 173ms/step - loss: 9.7414e-05 - val_loss: 0.0064\n"
     ]
    },
    {
     "data": {
      "text/plain": [
       "<tensorflow.python.keras.callbacks.History at 0x7f010ce10f28>"
      ]
     },
     "execution_count": 21,
     "metadata": {
      "tags": []
     },
     "output_type": "execute_result"
    }
   ],
   "source": [
    "model.fit(X_train,y_train,validation_data=(X_test,ytest),epochs=100,batch_size=64,verbose=1)"
   ]
  },
  {
   "cell_type": "code",
   "execution_count": 22,
   "metadata": {
    "colab": {
     "base_uri": "https://localhost:8080/"
    },
    "id": "J9VrPwKohqkh",
    "outputId": "e3f18b6b-ece2-421e-d11e-3ecc83eeb89d"
   },
   "outputs": [
    {
     "data": {
      "text/plain": [
       "158.35256472105377"
      ]
     },
     "execution_count": 22,
     "metadata": {
      "tags": []
     },
     "output_type": "execute_result"
    }
   ],
   "source": [
    "### Lets Do the prediction and check performance metrics\n",
    "train_predict=model.predict(X_train)\n",
    "test_predict=model.predict(X_test)\n",
    "\n",
    "##Transformback to original form\n",
    "train_predict=scaler.inverse_transform(train_predict)\n",
    "test_predict=scaler.inverse_transform(test_predict)\n",
    "\n",
    "### Calculate RMSE performance metrics\n",
    "import math\n",
    "from sklearn.metrics import mean_squared_error\n",
    "math.sqrt(mean_squared_error(y_train,train_predict))"
   ]
  },
  {
   "cell_type": "code",
   "execution_count": 23,
   "metadata": {
    "colab": {
     "base_uri": "https://localhost:8080/"
    },
    "id": "_584YOR7ezOv",
    "outputId": "436ee8b8-b2cc-4fb4-e7d7-a51a63088fb6"
   },
   "outputs": [
    {
     "data": {
      "text/plain": [
       "270.5298232875679"
      ]
     },
     "execution_count": 23,
     "metadata": {
      "tags": []
     },
     "output_type": "execute_result"
    }
   ],
   "source": [
    "### Test Data RMSE\n",
    "math.sqrt(mean_squared_error(ytest,test_predict))"
   ]
  },
  {
   "cell_type": "code",
   "execution_count": 24,
   "metadata": {
    "colab": {
     "base_uri": "https://localhost:8080/",
     "height": 265
    },
    "id": "Jsj9HG_biFf0",
    "outputId": "fcee2552-7255-45a3-d382-8606f0cc24b8"
   },
   "outputs": [
    {
     "data": {
      "image/png": "[encoded data removed]",
      "text/plain": [
       "<Figure size 432x288 with 1 Axes>"
      ]
     },
     "metadata": {
      "needs_background": "light",
      "tags": []
     },
     "output_type": "display_data"
    }
   ],
   "source": [
    "### Plotting \n",
    "# shift train predictions for plotting\n",
    "look_back=100\n",
    "trainPredictPlot = numpy.empty_like(df1)\n",
    "trainPredictPlot[:, :] = np.nan\n",
    "trainPredictPlot[look_back:len(train_predict)+look_back, :] = train_predict\n",
    "# shift test predictions for plotting\n",
    "testPredictPlot = numpy.empty_like(df1)\n",
    "testPredictPlot[:, :] = numpy.nan\n",
    "testPredictPlot[len(train_predict)+(look_back*2)+1:len(df1)-1, :] = test_predict\n",
    "# plot baseline and predictions\n",
    "plt.plot(scaler.inverse_transform(df1))\n",
    "plt.plot(trainPredictPlot)\n",
    "plt.plot(testPredictPlot)\n",
    "plt.show()"
   ]
  },
  {
   "cell_type": "markdown",
   "metadata": {
    "id": "Su0RHZ51i5CL"
   },
   "source": [
    "### Predicting values after Test Data ---- Which we divided earlier th 65-35%\n",
    "\n",
    "But to predict values after test data , We need 100 previous days values from test data to get the 1st value of our new prediction"
   ]
  },
  {
   "cell_type": "code",
   "execution_count": 25,
   "metadata": {
    "colab": {
     "base_uri": "https://localhost:8080/"
    },
    "id": "RWLuVdvHiMc1",
    "outputId": "08c11bb6-3ba0-406d-ffea-e4eecd8ce61e"
   },
   "outputs": [
    {
     "data": {
      "text/plain": [
       "441"
      ]
     },
     "execution_count": 25,
     "metadata": {
      "tags": []
     },
     "output_type": "execute_result"
    }
   ],
   "source": [
    "len(test_data)"
   ]
  },
  {
   "cell_type": "code",
   "execution_count": 28,
   "metadata": {
    "colab": {
     "base_uri": "https://localhost:8080/"
    },
    "id": "PZFdH7x-jYF0",
    "outputId": "d101332b-886c-48ba-b973-a6b1d7dae281"
   },
   "outputs": [
    {
     "data": {
      "text/plain": [
       "array([[0.67598316],\n",
       "       [0.67377029],\n",
       "       [0.69488876],\n",
       "       [0.67990379],\n",
       "       [0.69710162],\n",
       "       [0.70816597],\n",
       "       [0.80505111],\n",
       "       [0.83081179],\n",
       "       [0.83781118],\n",
       "       [0.8416356 ],\n",
       "       [0.87858088],\n",
       "       [0.85173782],\n",
       "       [0.86727601],\n",
       "       [0.83502105],\n",
       "       [0.86999399],\n",
       "       [0.88923632],\n",
       "       [0.88825015],\n",
       "       [0.8853638 ],\n",
       "       [0.89455201],\n",
       "       [0.89594708],\n",
       "       [0.92064943],\n",
       "       [0.97929044],\n",
       "       [0.99360192],\n",
       "       [0.98366807],\n",
       "       [1.        ],\n",
       "       [0.98544799],\n",
       "       [0.9834997 ],\n",
       "       [0.09308479],\n",
       "       [0.10544799],\n",
       "       [0.09876127],\n",
       "       [0.07345761],\n",
       "       [0.07365003],\n",
       "       [0.05407096],\n",
       "       [0.06489477],\n",
       "       [0.0556825 ],\n",
       "       [0.05209862],\n",
       "       [0.06016837],\n",
       "       [0.06061335],\n",
       "       [0.0524113 ],\n",
       "       [0.04810583],\n",
       "       [0.03968731],\n",
       "       [0.04748046],\n",
       "       [0.05164161],\n",
       "       [0.04036079],\n",
       "       [0.04300661],\n",
       "       [0.0527721 ],\n",
       "       [0.05921828],\n",
       "       [0.05712568],\n",
       "       [0.06126278],\n",
       "       [0.06361996],\n",
       "       [0.05455201],\n",
       "       [0.06292243],\n",
       "       [0.05488876],\n",
       "       [0.05950692],\n",
       "       [0.05924233],\n",
       "       [0.06405292],\n",
       "       [0.08192423],\n",
       "       [0.07398677],\n",
       "       [0.07420325],\n",
       "       [0.07304871],\n",
       "       [0.06898376],\n",
       "       [0.06167168],\n",
       "       [0.06535177],\n",
       "       [0.06381239],\n",
       "       [0.06111846],\n",
       "       [0.0594107 ],\n",
       "       [0.05943476],\n",
       "       [0.06316296],\n",
       "       [0.05017438],\n",
       "       [0.06008419],\n",
       "       [0.044546  ],\n",
       "       [0.04432952],\n",
       "       [0.04834636],\n",
       "       [0.05919423],\n",
       "       [0.06900782],\n",
       "       [0.06819002],\n",
       "       [0.06248948],\n",
       "       [0.06164762],\n",
       "       [0.07011425],\n",
       "       [0.06944077],\n",
       "       [0.06956103],\n",
       "       [0.07206254],\n",
       "       [0.06987372],\n",
       "       [0.06660253],\n",
       "       [0.06806975],\n",
       "       [0.06494287],\n",
       "       [0.05654841],\n",
       "       [0.05972339],\n",
       "       [0.06179194],\n",
       "       [0.06313891],\n",
       "       [0.06905592],\n",
       "       [0.07788334],\n",
       "       [0.07874925],\n",
       "       [0.07841251],\n",
       "       [0.07675286],\n",
       "       [0.08036079],\n",
       "       [0.08187613],\n",
       "       [0.07562237],\n",
       "       [0.0791341 ],\n",
       "       [0.0771377 ]])"
      ]
     },
     "execution_count": 28,
     "metadata": {
      "tags": []
     },
     "output_type": "execute_result"
    }
   ],
   "source": [
    "test_data[341:]  ### Will take Last 100 values from test data to predict 1st value after test data"
   ]
  },
  {
   "cell_type": "code",
   "execution_count": 26,
   "metadata": {
    "colab": {
     "base_uri": "https://localhost:8080/"
    },
    "id": "m4qj8CqfjDRr",
    "outputId": "79876974-cbb9-4d34-e7a3-7ccf65f08495"
   },
   "outputs": [
    {
     "data": {
      "text/plain": [
       "(1, 100)"
      ]
     },
     "execution_count": 26,
     "metadata": {
      "tags": []
     },
     "output_type": "execute_result"
    }
   ],
   "source": [
    "### Converting it into form which is required by lstm\n",
    "x_input=test_data[341:].reshape(1,-1)\n",
    "x_input.shape"
   ]
  },
  {
   "cell_type": "code",
   "execution_count": 27,
   "metadata": {
    "colab": {
     "base_uri": "https://localhost:8080/"
    },
    "id": "CrZfX1l0jL_Z",
    "outputId": "0c53fb96-c685-41a4-d8a7-aae4450d55f3"
   },
   "outputs": [
    {
     "data": {
      "text/plain": [
       "array([[0.67598316, 0.67377029, 0.69488876, 0.67990379, 0.69710162,\n",
       "        0.70816597, 0.80505111, 0.83081179, 0.83781118, 0.8416356 ,\n",
       "        0.87858088, 0.85173782, 0.86727601, 0.83502105, 0.86999399,\n",
       "        0.88923632, 0.88825015, 0.8853638 , 0.89455201, 0.89594708,\n",
       "        0.92064943, 0.97929044, 0.99360192, 0.98366807, 1.        ,\n",
       "        0.98544799, 0.9834997 , 0.09308479, 0.10544799, 0.09876127,\n",
       "        0.07345761, 0.07365003, 0.05407096, 0.06489477, 0.0556825 ,\n",
       "        0.05209862, 0.06016837, 0.06061335, 0.0524113 , 0.04810583,\n",
       "        0.03968731, 0.04748046, 0.05164161, 0.04036079, 0.04300661,\n",
       "        0.0527721 , 0.05921828, 0.05712568, 0.06126278, 0.06361996,\n",
       "        0.05455201, 0.06292243, 0.05488876, 0.05950692, 0.05924233,\n",
       "        0.06405292, 0.08192423, 0.07398677, 0.07420325, 0.07304871,\n",
       "        0.06898376, 0.06167168, 0.06535177, 0.06381239, 0.06111846,\n",
       "        0.0594107 , 0.05943476, 0.06316296, 0.05017438, 0.06008419,\n",
       "        0.044546  , 0.04432952, 0.04834636, 0.05919423, 0.06900782,\n",
       "        0.06819002, 0.06248948, 0.06164762, 0.07011425, 0.06944077,\n",
       "        0.06956103, 0.07206254, 0.06987372, 0.06660253, 0.06806975,\n",
       "        0.06494287, 0.05654841, 0.05972339, 0.06179194, 0.06313891,\n",
       "        0.06905592, 0.07788334, 0.07874925, 0.07841251, 0.07675286,\n",
       "        0.08036079, 0.08187613, 0.07562237, 0.0791341 , 0.0771377 ]])"
      ]
     },
     "execution_count": 27,
     "metadata": {
      "tags": []
     },
     "output_type": "execute_result"
    }
   ],
   "source": [
    "x_input"
   ]
  },
  {
   "cell_type": "code",
   "execution_count": 29,
   "metadata": {
    "colab": {
     "base_uri": "https://localhost:8080/"
    },
    "id": "1vTEU_-BjNZ5",
    "outputId": "2cb77d62-7926-4288-9a2c-62d19f8ac86a"
   },
   "outputs": [
    {
     "data": {
      "text/plain": [
       "[0.6759831629585087,\n",
       " 0.673770294648226,\n",
       " 0.6948887552615755,\n",
       " 0.6799037883343355,\n",
       " 0.6971016235718581,\n",
       " 0.7081659651232712,\n",
       " 0.8050511124473845,\n",
       " 0.830811785929044,\n",
       " 0.8378111846061336,\n",
       " 0.841635598316296,\n",
       " 0.8785808779314492,\n",
       " 0.8517378232110644,\n",
       " 0.8672760072158752,\n",
       " 0.8350210463018641,\n",
       " 0.8699939867708961,\n",
       " 0.8892363199037885,\n",
       " 0.8882501503307276,\n",
       " 0.8853638003607938,\n",
       " 0.89455201443175,\n",
       " 0.8959470835838845,\n",
       " 0.9206494287432352,\n",
       " 0.9792904389657247,\n",
       " 0.9936019242333134,\n",
       " 0.9836680697534577,\n",
       " 1.0,\n",
       " 0.9854479855682503,\n",
       " 0.983499699338545,\n",
       " 0.09308478653036678,\n",
       " 0.10544798556825014,\n",
       " 0.09876127480457003,\n",
       " 0.07345760673481655,\n",
       " 0.07365003006614551,\n",
       " 0.05407095610342749,\n",
       " 0.06489476849067943,\n",
       " 0.055682501503307225,\n",
       " 0.052098616957306054,\n",
       " 0.0601683704149128,\n",
       " 0.06061334936861096,\n",
       " 0.05241130487071555,\n",
       " 0.04810583283223091,\n",
       " 0.03968731208659049,\n",
       " 0.04748045700541187,\n",
       " 0.05164161154539987,\n",
       " 0.04036079374624174,\n",
       " 0.04300661455201443,\n",
       " 0.05277209861695731,\n",
       " 0.05921828021647624,\n",
       " 0.05712567648827421,\n",
       " 0.06126277811184605,\n",
       " 0.06361996392062536,\n",
       " 0.05455201443174984,\n",
       " 0.062922429344558,\n",
       " 0.05488875526157544,\n",
       " 0.059506915213469624,\n",
       " 0.059242333132892344,\n",
       " 0.06405291641611544,\n",
       " 0.08192423331328924,\n",
       " 0.07398677089597111,\n",
       " 0.07420324714371618,\n",
       " 0.07304870715574258,\n",
       " 0.06898376428141911,\n",
       " 0.061671677690920024,\n",
       " 0.06535177390258567,\n",
       " 0.06381238725195432,\n",
       " 0.06111846061334936,\n",
       " 0.059410703547805144,\n",
       " 0.05943475646422125,\n",
       " 0.06316295850871917,\n",
       " 0.05017438364401683,\n",
       " 0.06008418520745634,\n",
       " 0.04454600120264579,\n",
       " 0.04432952495490078,\n",
       " 0.04834636199639203,\n",
       " 0.05919422730006013,\n",
       " 0.06900781719783522,\n",
       " 0.06819001803968727,\n",
       " 0.062489476849067915,\n",
       " 0.06164762477450386,\n",
       " 0.0701142513529765,\n",
       " 0.0694407696933253,\n",
       " 0.06956103427540589,\n",
       " 0.07206253758268188,\n",
       " 0.06987372218881538,\n",
       " 0.0666025255562237,\n",
       " 0.06806975345760674,\n",
       " 0.0649428743235117,\n",
       " 0.056548406494287384,\n",
       " 0.05972339146121464,\n",
       " 0.06179194227300061,\n",
       " 0.06313890559230306,\n",
       " 0.06905592303066743,\n",
       " 0.07788334335538183,\n",
       " 0.07874924834636199,\n",
       " 0.07841250751653633,\n",
       " 0.07675285628382439,\n",
       " 0.08036079374624172,\n",
       " 0.08187612748045697,\n",
       " 0.07562236921226695,\n",
       " 0.0791340950090198,\n",
       " 0.07713770294648226]"
      ]
     },
     "execution_count": 29,
     "metadata": {
      "tags": []
     },
     "output_type": "execute_result"
    }
   ],
   "source": [
    "### Convert X_input to list\n",
    "temp_input=list(x_input)\n",
    "temp_input=temp_input[0].tolist()\n",
    "temp_input"
   ]
  },
  {
   "cell_type": "markdown",
   "metadata": {
    "id": "2MJXLNPkkrSa"
   },
   "source": [
    "#### Prediction for Next 30 days"
   ]
  },
  {
   "cell_type": "code",
   "execution_count": 30,
   "metadata": {
    "colab": {
     "base_uri": "https://localhost:8080/"
    },
    "id": "FoPEnD7zkZ3H",
    "outputId": "3880a130-871c-483c-e499-f43e909980a3"
   },
   "outputs": [
    {
     "name": "stdout",
     "output_type": "stream",
     "text": [
      "[0.07880163]\n",
      "101\n",
      "1 day input [0.67377029 0.69488876 0.67990379 0.69710162 0.70816597 0.80505111\n",
      " 0.83081179 0.83781118 0.8416356  0.87858088 0.85173782 0.86727601\n",
      " 0.83502105 0.86999399 0.88923632 0.88825015 0.8853638  0.89455201\n",
      " 0.89594708 0.92064943 0.97929044 0.99360192 0.98366807 1.\n",
      " 0.98544799 0.9834997  0.09308479 0.10544799 0.09876127 0.07345761\n",
      " 0.07365003 0.05407096 0.06489477 0.0556825  0.05209862 0.06016837\n",
      " 0.06061335 0.0524113  0.04810583 0.03968731 0.04748046 0.05164161\n",
      " 0.04036079 0.04300661 0.0527721  0.05921828 0.05712568 0.06126278\n",
      " 0.06361996 0.05455201 0.06292243 0.05488876 0.05950692 0.05924233\n",
      " 0.06405292 0.08192423 0.07398677 0.07420325 0.07304871 0.06898376\n",
      " 0.06167168 0.06535177 0.06381239 0.06111846 0.0594107  0.05943476\n",
      " 0.06316296 0.05017438 0.06008419 0.044546   0.04432952 0.04834636\n",
      " 0.05919423 0.06900782 0.06819002 0.06248948 0.06164762 0.07011425\n",
      " 0.06944077 0.06956103 0.07206254 0.06987372 0.06660253 0.06806975\n",
      " 0.06494287 0.05654841 0.05972339 0.06179194 0.06313891 0.06905592\n",
      " 0.07788334 0.07874925 0.07841251 0.07675286 0.08036079 0.08187613\n",
      " 0.07562237 0.0791341  0.0771377  0.07880163]\n",
      "1 day output [[0.07888221]]\n",
      "2 day input [0.69488876 0.67990379 0.69710162 0.70816597 0.80505111 0.83081179\n",
      " 0.83781118 0.8416356  0.87858088 0.85173782 0.86727601 0.83502105\n",
      " 0.86999399 0.88923632 0.88825015 0.8853638  0.89455201 0.89594708\n",
      " 0.92064943 0.97929044 0.99360192 0.98366807 1.         0.98544799\n",
      " 0.9834997  0.09308479 0.10544799 0.09876127 0.07345761 0.07365003\n",
      " 0.05407096 0.06489477 0.0556825  0.05209862 0.06016837 0.06061335\n",
      " 0.0524113  0.04810583 0.03968731 0.04748046 0.05164161 0.04036079\n",
      " 0.04300661 0.0527721  0.05921828 0.05712568 0.06126278 0.06361996\n",
      " 0.05455201 0.06292243 0.05488876 0.05950692 0.05924233 0.06405292\n",
      " 0.08192423 0.07398677 0.07420325 0.07304871 0.06898376 0.06167168\n",
      " 0.06535177 0.06381239 0.06111846 0.0594107  0.05943476 0.06316296\n",
      " 0.05017438 0.06008419 0.044546   0.04432952 0.04834636 0.05919423\n",
      " 0.06900782 0.06819002 0.06248948 0.06164762 0.07011425 0.06944077\n",
      " 0.06956103 0.07206254 0.06987372 0.06660253 0.06806975 0.06494287\n",
      " 0.05654841 0.05972339 0.06179194 0.06313891 0.06905592 0.07788334\n",
      " 0.07874925 0.07841251 0.07675286 0.08036079 0.08187613 0.07562237\n",
      " 0.0791341  0.0771377  0.07880163 0.07888221]\n",
      "2 day output [[0.07876563]]\n",
      "3 day input [0.67990379 0.69710162 0.70816597 0.80505111 0.83081179 0.83781118\n",
      " 0.8416356  0.87858088 0.85173782 0.86727601 0.83502105 0.86999399\n",
      " 0.88923632 0.88825015 0.8853638  0.89455201 0.89594708 0.92064943\n",
      " 0.97929044 0.99360192 0.98366807 1.         0.98544799 0.9834997\n",
      " 0.09308479 0.10544799 0.09876127 0.07345761 0.07365003 0.05407096\n",
      " 0.06489477 0.0556825  0.05209862 0.06016837 0.06061335 0.0524113\n",
      " 0.04810583 0.03968731 0.04748046 0.05164161 0.04036079 0.04300661\n",
      " 0.0527721  0.05921828 0.05712568 0.06126278 0.06361996 0.05455201\n",
      " 0.06292243 0.05488876 0.05950692 0.05924233 0.06405292 0.08192423\n",
      " 0.07398677 0.07420325 0.07304871 0.06898376 0.06167168 0.06535177\n",
      " 0.06381239 0.06111846 0.0594107  0.05943476 0.06316296 0.05017438\n",
      " 0.06008419 0.044546   0.04432952 0.04834636 0.05919423 0.06900782\n",
      " 0.06819002 0.06248948 0.06164762 0.07011425 0.06944077 0.06956103\n",
      " 0.07206254 0.06987372 0.06660253 0.06806975 0.06494287 0.05654841\n",
      " 0.05972339 0.06179194 0.06313891 0.06905592 0.07788334 0.07874925\n",
      " 0.07841251 0.07675286 0.08036079 0.08187613 0.07562237 0.0791341\n",
      " 0.0771377  0.07880163 0.07888221 0.07876563]\n",
      "3 day output [[0.07856863]]\n",
      "4 day input [0.69710162 0.70816597 0.80505111 0.83081179 0.83781118 0.8416356\n",
      " 0.87858088 0.85173782 0.86727601 0.83502105 0.86999399 0.88923632\n",
      " 0.88825015 0.8853638  0.89455201 0.89594708 0.92064943 0.97929044\n",
      " 0.99360192 0.98366807 1.         0.98544799 0.9834997  0.09308479\n",
      " 0.10544799 0.09876127 0.07345761 0.07365003 0.05407096 0.06489477\n",
      " 0.0556825  0.05209862 0.06016837 0.06061335 0.0524113  0.04810583\n",
      " 0.03968731 0.04748046 0.05164161 0.04036079 0.04300661 0.0527721\n",
      " 0.05921828 0.05712568 0.06126278 0.06361996 0.05455201 0.06292243\n",
      " 0.05488876 0.05950692 0.05924233 0.06405292 0.08192423 0.07398677\n",
      " 0.07420325 0.07304871 0.06898376 0.06167168 0.06535177 0.06381239\n",
      " 0.06111846 0.0594107  0.05943476 0.06316296 0.05017438 0.06008419\n",
      " 0.044546   0.04432952 0.04834636 0.05919423 0.06900782 0.06819002\n",
      " 0.06248948 0.06164762 0.07011425 0.06944077 0.06956103 0.07206254\n",
      " 0.06987372 0.06660253 0.06806975 0.06494287 0.05654841 0.05972339\n",
      " 0.06179194 0.06313891 0.06905592 0.07788334 0.07874925 0.07841251\n",
      " 0.07675286 0.08036079 0.08187613 0.07562237 0.0791341  0.0771377\n",
      " 0.07880163 0.07888221 0.07876563 0.07856863]\n",
      "4 day output [[0.07835709]]\n",
      "5 day input [0.70816597 0.80505111 0.83081179 0.83781118 0.8416356  0.87858088\n",
      " 0.85173782 0.86727601 0.83502105 0.86999399 0.88923632 0.88825015\n",
      " 0.8853638  0.89455201 0.89594708 0.92064943 0.97929044 0.99360192\n",
      " 0.98366807 1.         0.98544799 0.9834997  0.09308479 0.10544799\n",
      " 0.09876127 0.07345761 0.07365003 0.05407096 0.06489477 0.0556825\n",
      " 0.05209862 0.06016837 0.06061335 0.0524113  0.04810583 0.03968731\n",
      " 0.04748046 0.05164161 0.04036079 0.04300661 0.0527721  0.05921828\n",
      " 0.05712568 0.06126278 0.06361996 0.05455201 0.06292243 0.05488876\n",
      " 0.05950692 0.05924233 0.06405292 0.08192423 0.07398677 0.07420325\n",
      " 0.07304871 0.06898376 0.06167168 0.06535177 0.06381239 0.06111846\n",
      " 0.0594107  0.05943476 0.06316296 0.05017438 0.06008419 0.044546\n",
      " 0.04432952 0.04834636 0.05919423 0.06900782 0.06819002 0.06248948\n",
      " 0.06164762 0.07011425 0.06944077 0.06956103 0.07206254 0.06987372\n",
      " 0.06660253 0.06806975 0.06494287 0.05654841 0.05972339 0.06179194\n",
      " 0.06313891 0.06905592 0.07788334 0.07874925 0.07841251 0.07675286\n",
      " 0.08036079 0.08187613 0.07562237 0.0791341  0.0771377  0.07880163\n",
      " 0.07888221 0.07876563 0.07856863 0.07835709]\n",
      "5 day output [[0.07816335]]\n",
      "6 day input [0.80505111 0.83081179 0.83781118 0.8416356  0.87858088 0.85173782\n",
      " 0.86727601 0.83502105 0.86999399 0.88923632 0.88825015 0.8853638\n",
      " 0.89455201 0.89594708 0.92064943 0.97929044 0.99360192 0.98366807\n",
      " 1.         0.98544799 0.9834997  0.09308479 0.10544799 0.09876127\n",
      " 0.07345761 0.07365003 0.05407096 0.06489477 0.0556825  0.05209862\n",
      " 0.06016837 0.06061335 0.0524113  0.04810583 0.03968731 0.04748046\n",
      " 0.05164161 0.04036079 0.04300661 0.0527721  0.05921828 0.05712568\n",
      " 0.06126278 0.06361996 0.05455201 0.06292243 0.05488876 0.05950692\n",
      " 0.05924233 0.06405292 0.08192423 0.07398677 0.07420325 0.07304871\n",
      " 0.06898376 0.06167168 0.06535177 0.06381239 0.06111846 0.0594107\n",
      " 0.05943476 0.06316296 0.05017438 0.06008419 0.044546   0.04432952\n",
      " 0.04834636 0.05919423 0.06900782 0.06819002 0.06248948 0.06164762\n",
      " 0.07011425 0.06944077 0.06956103 0.07206254 0.06987372 0.06660253\n",
      " 0.06806975 0.06494287 0.05654841 0.05972339 0.06179194 0.06313891\n",
      " 0.06905592 0.07788334 0.07874925 0.07841251 0.07675286 0.08036079\n",
      " 0.08187613 0.07562237 0.0791341  0.0771377  0.07880163 0.07888221\n",
      " 0.07876563 0.07856863 0.07835709 0.07816335]\n",
      "6 day output [[0.07800085]]\n",
      "7 day input [0.83081179 0.83781118 0.8416356  0.87858088 0.85173782 0.86727601\n",
      " 0.83502105 0.86999399 0.88923632 0.88825015 0.8853638  0.89455201\n",
      " 0.89594708 0.92064943 0.97929044 0.99360192 0.98366807 1.\n",
      " 0.98544799 0.9834997  0.09308479 0.10544799 0.09876127 0.07345761\n",
      " 0.07365003 0.05407096 0.06489477 0.0556825  0.05209862 0.06016837\n",
      " 0.06061335 0.0524113  0.04810583 0.03968731 0.04748046 0.05164161\n",
      " 0.04036079 0.04300661 0.0527721  0.05921828 0.05712568 0.06126278\n",
      " 0.06361996 0.05455201 0.06292243 0.05488876 0.05950692 0.05924233\n",
      " 0.06405292 0.08192423 0.07398677 0.07420325 0.07304871 0.06898376\n",
      " 0.06167168 0.06535177 0.06381239 0.06111846 0.0594107  0.05943476\n",
      " 0.06316296 0.05017438 0.06008419 0.044546   0.04432952 0.04834636\n",
      " 0.05919423 0.06900782 0.06819002 0.06248948 0.06164762 0.07011425\n",
      " 0.06944077 0.06956103 0.07206254 0.06987372 0.06660253 0.06806975\n",
      " 0.06494287 0.05654841 0.05972339 0.06179194 0.06313891 0.06905592\n",
      " 0.07788334 0.07874925 0.07841251 0.07675286 0.08036079 0.08187613\n",
      " 0.07562237 0.0791341  0.0771377  0.07880163 0.07888221 0.07876563\n",
      " 0.07856863 0.07835709 0.07816335 0.07800085]\n",
      "7 day output [[0.07787392]]\n",
      "8 day input [0.83781118 0.8416356  0.87858088 0.85173782 0.86727601 0.83502105\n",
      " 0.86999399 0.88923632 0.88825015 0.8853638  0.89455201 0.89594708\n",
      " 0.92064943 0.97929044 0.99360192 0.98366807 1.         0.98544799\n",
      " 0.9834997  0.09308479 0.10544799 0.09876127 0.07345761 0.07365003\n",
      " 0.05407096 0.06489477 0.0556825  0.05209862 0.06016837 0.06061335\n",
      " 0.0524113  0.04810583 0.03968731 0.04748046 0.05164161 0.04036079\n",
      " 0.04300661 0.0527721  0.05921828 0.05712568 0.06126278 0.06361996\n",
      " 0.05455201 0.06292243 0.05488876 0.05950692 0.05924233 0.06405292\n",
      " 0.08192423 0.07398677 0.07420325 0.07304871 0.06898376 0.06167168\n",
      " 0.06535177 0.06381239 0.06111846 0.0594107  0.05943476 0.06316296\n",
      " 0.05017438 0.06008419 0.044546   0.04432952 0.04834636 0.05919423\n",
      " 0.06900782 0.06819002 0.06248948 0.06164762 0.07011425 0.06944077\n",
      " 0.06956103 0.07206254 0.06987372 0.06660253 0.06806975 0.06494287\n",
      " 0.05654841 0.05972339 0.06179194 0.06313891 0.06905592 0.07788334\n",
      " 0.07874925 0.07841251 0.07675286 0.08036079 0.08187613 0.07562237\n",
      " 0.0791341  0.0771377  0.07880163 0.07888221 0.07876563 0.07856863\n",
      " 0.07835709 0.07816335 0.07800085 0.07787392]\n",
      "8 day output [[0.07778299]]\n",
      "9 day input [0.8416356  0.87858088 0.85173782 0.86727601 0.83502105 0.86999399\n",
      " 0.88923632 0.88825015 0.8853638  0.89455201 0.89594708 0.92064943\n",
      " 0.97929044 0.99360192 0.98366807 1.         0.98544799 0.9834997\n",
      " 0.09308479 0.10544799 0.09876127 0.07345761 0.07365003 0.05407096\n",
      " 0.06489477 0.0556825  0.05209862 0.06016837 0.06061335 0.0524113\n",
      " 0.04810583 0.03968731 0.04748046 0.05164161 0.04036079 0.04300661\n",
      " 0.0527721  0.05921828 0.05712568 0.06126278 0.06361996 0.05455201\n",
      " 0.06292243 0.05488876 0.05950692 0.05924233 0.06405292 0.08192423\n",
      " 0.07398677 0.07420325 0.07304871 0.06898376 0.06167168 0.06535177\n",
      " 0.06381239 0.06111846 0.0594107  0.05943476 0.06316296 0.05017438\n",
      " 0.06008419 0.044546   0.04432952 0.04834636 0.05919423 0.06900782\n",
      " 0.06819002 0.06248948 0.06164762 0.07011425 0.06944077 0.06956103\n",
      " 0.07206254 0.06987372 0.06660253 0.06806975 0.06494287 0.05654841\n",
      " 0.05972339 0.06179194 0.06313891 0.06905592 0.07788334 0.07874925\n",
      " 0.07841251 0.07675286 0.08036079 0.08187613 0.07562237 0.0791341\n",
      " 0.0771377  0.07880163 0.07888221 0.07876563 0.07856863 0.07835709\n",
      " 0.07816335 0.07800085 0.07787392 0.07778299]\n",
      "9 day output [[0.07772729]]\n",
      "10 day input [0.87858088 0.85173782 0.86727601 0.83502105 0.86999399 0.88923632\n",
      " 0.88825015 0.8853638  0.89455201 0.89594708 0.92064943 0.97929044\n",
      " 0.99360192 0.98366807 1.         0.98544799 0.9834997  0.09308479\n",
      " 0.10544799 0.09876127 0.07345761 0.07365003 0.05407096 0.06489477\n",
      " 0.0556825  0.05209862 0.06016837 0.06061335 0.0524113  0.04810583\n",
      " 0.03968731 0.04748046 0.05164161 0.04036079 0.04300661 0.0527721\n",
      " 0.05921828 0.05712568 0.06126278 0.06361996 0.05455201 0.06292243\n",
      " 0.05488876 0.05950692 0.05924233 0.06405292 0.08192423 0.07398677\n",
      " 0.07420325 0.07304871 0.06898376 0.06167168 0.06535177 0.06381239\n",
      " 0.06111846 0.0594107  0.05943476 0.06316296 0.05017438 0.06008419\n",
      " 0.044546   0.04432952 0.04834636 0.05919423 0.06900782 0.06819002\n",
      " 0.06248948 0.06164762 0.07011425 0.06944077 0.06956103 0.07206254\n",
      " 0.06987372 0.06660253 0.06806975 0.06494287 0.05654841 0.05972339\n",
      " 0.06179194 0.06313891 0.06905592 0.07788334 0.07874925 0.07841251\n",
      " 0.07675286 0.08036079 0.08187613 0.07562237 0.0791341  0.0771377\n",
      " 0.07880163 0.07888221 0.07876563 0.07856863 0.07835709 0.07816335\n",
      " 0.07800085 0.07787392 0.07778299 0.07772729]\n",
      "10 day output [[0.07770547]]\n",
      "11 day input [0.85173782 0.86727601 0.83502105 0.86999399 0.88923632 0.88825015\n",
      " 0.8853638  0.89455201 0.89594708 0.92064943 0.97929044 0.99360192\n",
      " 0.98366807 1.         0.98544799 0.9834997  0.09308479 0.10544799\n",
      " 0.09876127 0.07345761 0.07365003 0.05407096 0.06489477 0.0556825\n",
      " 0.05209862 0.06016837 0.06061335 0.0524113  0.04810583 0.03968731\n",
      " 0.04748046 0.05164161 0.04036079 0.04300661 0.0527721  0.05921828\n",
      " 0.05712568 0.06126278 0.06361996 0.05455201 0.06292243 0.05488876\n",
      " 0.05950692 0.05924233 0.06405292 0.08192423 0.07398677 0.07420325\n",
      " 0.07304871 0.06898376 0.06167168 0.06535177 0.06381239 0.06111846\n",
      " 0.0594107  0.05943476 0.06316296 0.05017438 0.06008419 0.044546\n",
      " 0.04432952 0.04834636 0.05919423 0.06900782 0.06819002 0.06248948\n",
      " 0.06164762 0.07011425 0.06944077 0.06956103 0.07206254 0.06987372\n",
      " 0.06660253 0.06806975 0.06494287 0.05654841 0.05972339 0.06179194\n",
      " 0.06313891 0.06905592 0.07788334 0.07874925 0.07841251 0.07675286\n",
      " 0.08036079 0.08187613 0.07562237 0.0791341  0.0771377  0.07880163\n",
      " 0.07888221 0.07876563 0.07856863 0.07835709 0.07816335 0.07800085\n",
      " 0.07787392 0.07778299 0.07772729 0.07770547]\n",
      "11 day output [[0.07771593]]\n",
      "12 day input [0.86727601 0.83502105 0.86999399 0.88923632 0.88825015 0.8853638\n",
      " 0.89455201 0.89594708 0.92064943 0.97929044 0.99360192 0.98366807\n",
      " 1.         0.98544799 0.9834997  0.09308479 0.10544799 0.09876127\n",
      " 0.07345761 0.07365003 0.05407096 0.06489477 0.0556825  0.05209862\n",
      " 0.06016837 0.06061335 0.0524113  0.04810583 0.03968731 0.04748046\n",
      " 0.05164161 0.04036079 0.04300661 0.0527721  0.05921828 0.05712568\n",
      " 0.06126278 0.06361996 0.05455201 0.06292243 0.05488876 0.05950692\n",
      " 0.05924233 0.06405292 0.08192423 0.07398677 0.07420325 0.07304871\n",
      " 0.06898376 0.06167168 0.06535177 0.06381239 0.06111846 0.0594107\n",
      " 0.05943476 0.06316296 0.05017438 0.06008419 0.044546   0.04432952\n",
      " 0.04834636 0.05919423 0.06900782 0.06819002 0.06248948 0.06164762\n",
      " 0.07011425 0.06944077 0.06956103 0.07206254 0.06987372 0.06660253\n",
      " 0.06806975 0.06494287 0.05654841 0.05972339 0.06179194 0.06313891\n",
      " 0.06905592 0.07788334 0.07874925 0.07841251 0.07675286 0.08036079\n",
      " 0.08187613 0.07562237 0.0791341  0.0771377  0.07880163 0.07888221\n",
      " 0.07876563 0.07856863 0.07835709 0.07816335 0.07800085 0.07787392\n",
      " 0.07778299 0.07772729 0.07770547 0.07771593]\n",
      "12 day output [[0.07775649]]\n",
      "13 day input [0.83502105 0.86999399 0.88923632 0.88825015 0.8853638  0.89455201\n",
      " 0.89594708 0.92064943 0.97929044 0.99360192 0.98366807 1.\n",
      " 0.98544799 0.9834997  0.09308479 0.10544799 0.09876127 0.07345761\n",
      " 0.07365003 0.05407096 0.06489477 0.0556825  0.05209862 0.06016837\n",
      " 0.06061335 0.0524113  0.04810583 0.03968731 0.04748046 0.05164161\n",
      " 0.04036079 0.04300661 0.0527721  0.05921828 0.05712568 0.06126278\n",
      " 0.06361996 0.05455201 0.06292243 0.05488876 0.05950692 0.05924233\n",
      " 0.06405292 0.08192423 0.07398677 0.07420325 0.07304871 0.06898376\n",
      " 0.06167168 0.06535177 0.06381239 0.06111846 0.0594107  0.05943476\n",
      " 0.06316296 0.05017438 0.06008419 0.044546   0.04432952 0.04834636\n",
      " 0.05919423 0.06900782 0.06819002 0.06248948 0.06164762 0.07011425\n",
      " 0.06944077 0.06956103 0.07206254 0.06987372 0.06660253 0.06806975\n",
      " 0.06494287 0.05654841 0.05972339 0.06179194 0.06313891 0.06905592\n",
      " 0.07788334 0.07874925 0.07841251 0.07675286 0.08036079 0.08187613\n",
      " 0.07562237 0.0791341  0.0771377  0.07880163 0.07888221 0.07876563\n",
      " 0.07856863 0.07835709 0.07816335 0.07800085 0.07787392 0.07778299\n",
      " 0.07772729 0.07770547 0.07771593 0.07775649]\n",
      "13 day output [[0.0778247]]\n",
      "14 day input [0.86999399 0.88923632 0.88825015 0.8853638  0.89455201 0.89594708\n",
      " 0.92064943 0.97929044 0.99360192 0.98366807 1.         0.98544799\n",
      " 0.9834997  0.09308479 0.10544799 0.09876127 0.07345761 0.07365003\n",
      " 0.05407096 0.06489477 0.0556825  0.05209862 0.06016837 0.06061335\n",
      " 0.0524113  0.04810583 0.03968731 0.04748046 0.05164161 0.04036079\n",
      " 0.04300661 0.0527721  0.05921828 0.05712568 0.06126278 0.06361996\n",
      " 0.05455201 0.06292243 0.05488876 0.05950692 0.05924233 0.06405292\n",
      " 0.08192423 0.07398677 0.07420325 0.07304871 0.06898376 0.06167168\n",
      " 0.06535177 0.06381239 0.06111846 0.0594107  0.05943476 0.06316296\n",
      " 0.05017438 0.06008419 0.044546   0.04432952 0.04834636 0.05919423\n",
      " 0.06900782 0.06819002 0.06248948 0.06164762 0.07011425 0.06944077\n",
      " 0.06956103 0.07206254 0.06987372 0.06660253 0.06806975 0.06494287\n",
      " 0.05654841 0.05972339 0.06179194 0.06313891 0.06905592 0.07788334\n",
      " 0.07874925 0.07841251 0.07675286 0.08036079 0.08187613 0.07562237\n",
      " 0.0791341  0.0771377  0.07880163 0.07888221 0.07876563 0.07856863\n",
      " 0.07835709 0.07816335 0.07800085 0.07787392 0.07778299 0.07772729\n",
      " 0.07770547 0.07771593 0.07775649 0.0778247 ]\n",
      "14 day output [[0.07791746]]\n",
      "15 day input [0.88923632 0.88825015 0.8853638  0.89455201 0.89594708 0.92064943\n",
      " 0.97929044 0.99360192 0.98366807 1.         0.98544799 0.9834997\n",
      " 0.09308479 0.10544799 0.09876127 0.07345761 0.07365003 0.05407096\n",
      " 0.06489477 0.0556825  0.05209862 0.06016837 0.06061335 0.0524113\n",
      " 0.04810583 0.03968731 0.04748046 0.05164161 0.04036079 0.04300661\n",
      " 0.0527721  0.05921828 0.05712568 0.06126278 0.06361996 0.05455201\n",
      " 0.06292243 0.05488876 0.05950692 0.05924233 0.06405292 0.08192423\n",
      " 0.07398677 0.07420325 0.07304871 0.06898376 0.06167168 0.06535177\n",
      " 0.06381239 0.06111846 0.0594107  0.05943476 0.06316296 0.05017438\n",
      " 0.06008419 0.044546   0.04432952 0.04834636 0.05919423 0.06900782\n",
      " 0.06819002 0.06248948 0.06164762 0.07011425 0.06944077 0.06956103\n",
      " 0.07206254 0.06987372 0.06660253 0.06806975 0.06494287 0.05654841\n",
      " 0.05972339 0.06179194 0.06313891 0.06905592 0.07788334 0.07874925\n",
      " 0.07841251 0.07675286 0.08036079 0.08187613 0.07562237 0.0791341\n",
      " 0.0771377  0.07880163 0.07888221 0.07876563 0.07856863 0.07835709\n",
      " 0.07816335 0.07800085 0.07787392 0.07778299 0.07772729 0.07770547\n",
      " 0.07771593 0.07775649 0.0778247  0.07791746]\n",
      "15 day output [[0.07803155]]\n",
      "16 day input [0.88825015 0.8853638  0.89455201 0.89594708 0.92064943 0.97929044\n",
      " 0.99360192 0.98366807 1.         0.98544799 0.9834997  0.09308479\n",
      " 0.10544799 0.09876127 0.07345761 0.07365003 0.05407096 0.06489477\n",
      " 0.0556825  0.05209862 0.06016837 0.06061335 0.0524113  0.04810583\n",
      " 0.03968731 0.04748046 0.05164161 0.04036079 0.04300661 0.0527721\n",
      " 0.05921828 0.05712568 0.06126278 0.06361996 0.05455201 0.06292243\n",
      " 0.05488876 0.05950692 0.05924233 0.06405292 0.08192423 0.07398677\n",
      " 0.07420325 0.07304871 0.06898376 0.06167168 0.06535177 0.06381239\n",
      " 0.06111846 0.0594107  0.05943476 0.06316296 0.05017438 0.06008419\n",
      " 0.044546   0.04432952 0.04834636 0.05919423 0.06900782 0.06819002\n",
      " 0.06248948 0.06164762 0.07011425 0.06944077 0.06956103 0.07206254\n",
      " 0.06987372 0.06660253 0.06806975 0.06494287 0.05654841 0.05972339\n",
      " 0.06179194 0.06313891 0.06905592 0.07788334 0.07874925 0.07841251\n",
      " 0.07675286 0.08036079 0.08187613 0.07562237 0.0791341  0.0771377\n",
      " 0.07880163 0.07888221 0.07876563 0.07856863 0.07835709 0.07816335\n",
      " 0.07800085 0.07787392 0.07778299 0.07772729 0.07770547 0.07771593\n",
      " 0.07775649 0.0778247  0.07791746 0.07803155]\n",
      "16 day output [[0.07816355]]\n",
      "17 day input [0.8853638  0.89455201 0.89594708 0.92064943 0.97929044 0.99360192\n",
      " 0.98366807 1.         0.98544799 0.9834997  0.09308479 0.10544799\n",
      " 0.09876127 0.07345761 0.07365003 0.05407096 0.06489477 0.0556825\n",
      " 0.05209862 0.06016837 0.06061335 0.0524113  0.04810583 0.03968731\n",
      " 0.04748046 0.05164161 0.04036079 0.04300661 0.0527721  0.05921828\n",
      " 0.05712568 0.06126278 0.06361996 0.05455201 0.06292243 0.05488876\n",
      " 0.05950692 0.05924233 0.06405292 0.08192423 0.07398677 0.07420325\n",
      " 0.07304871 0.06898376 0.06167168 0.06535177 0.06381239 0.06111846\n",
      " 0.0594107  0.05943476 0.06316296 0.05017438 0.06008419 0.044546\n",
      " 0.04432952 0.04834636 0.05919423 0.06900782 0.06819002 0.06248948\n",
      " 0.06164762 0.07011425 0.06944077 0.06956103 0.07206254 0.06987372\n",
      " 0.06660253 0.06806975 0.06494287 0.05654841 0.05972339 0.06179194\n",
      " 0.06313891 0.06905592 0.07788334 0.07874925 0.07841251 0.07675286\n",
      " 0.08036079 0.08187613 0.07562237 0.0791341  0.0771377  0.07880163\n",
      " 0.07888221 0.07876563 0.07856863 0.07835709 0.07816335 0.07800085\n",
      " 0.07787392 0.07778299 0.07772729 0.07770547 0.07771593 0.07775649\n",
      " 0.0778247  0.07791746 0.07803155 0.07816355]\n",
      "17 day output [[0.07830998]]\n",
      "18 day input [0.89455201 0.89594708 0.92064943 0.97929044 0.99360192 0.98366807\n",
      " 1.         0.98544799 0.9834997  0.09308479 0.10544799 0.09876127\n",
      " 0.07345761 0.07365003 0.05407096 0.06489477 0.0556825  0.05209862\n",
      " 0.06016837 0.06061335 0.0524113  0.04810583 0.03968731 0.04748046\n",
      " 0.05164161 0.04036079 0.04300661 0.0527721  0.05921828 0.05712568\n",
      " 0.06126278 0.06361996 0.05455201 0.06292243 0.05488876 0.05950692\n",
      " 0.05924233 0.06405292 0.08192423 0.07398677 0.07420325 0.07304871\n",
      " 0.06898376 0.06167168 0.06535177 0.06381239 0.06111846 0.0594107\n",
      " 0.05943476 0.06316296 0.05017438 0.06008419 0.044546   0.04432952\n",
      " 0.04834636 0.05919423 0.06900782 0.06819002 0.06248948 0.06164762\n",
      " 0.07011425 0.06944077 0.06956103 0.07206254 0.06987372 0.06660253\n",
      " 0.06806975 0.06494287 0.05654841 0.05972339 0.06179194 0.06313891\n",
      " 0.06905592 0.07788334 0.07874925 0.07841251 0.07675286 0.08036079\n",
      " 0.08187613 0.07562237 0.0791341  0.0771377  0.07880163 0.07888221\n",
      " 0.07876563 0.07856863 0.07835709 0.07816335 0.07800085 0.07787392\n",
      " 0.07778299 0.07772729 0.07770547 0.07771593 0.07775649 0.0778247\n",
      " 0.07791746 0.07803155 0.07816355 0.07830998]\n",
      "18 day output [[0.07846764]]\n",
      "19 day input [0.89594708 0.92064943 0.97929044 0.99360192 0.98366807 1.\n",
      " 0.98544799 0.9834997  0.09308479 0.10544799 0.09876127 0.07345761\n",
      " 0.07365003 0.05407096 0.06489477 0.0556825  0.05209862 0.06016837\n",
      " 0.06061335 0.0524113  0.04810583 0.03968731 0.04748046 0.05164161\n",
      " 0.04036079 0.04300661 0.0527721  0.05921828 0.05712568 0.06126278\n",
      " 0.06361996 0.05455201 0.06292243 0.05488876 0.05950692 0.05924233\n",
      " 0.06405292 0.08192423 0.07398677 0.07420325 0.07304871 0.06898376\n",
      " 0.06167168 0.06535177 0.06381239 0.06111846 0.0594107  0.05943476\n",
      " 0.06316296 0.05017438 0.06008419 0.044546   0.04432952 0.04834636\n",
      " 0.05919423 0.06900782 0.06819002 0.06248948 0.06164762 0.07011425\n",
      " 0.06944077 0.06956103 0.07206254 0.06987372 0.06660253 0.06806975\n",
      " 0.06494287 0.05654841 0.05972339 0.06179194 0.06313891 0.06905592\n",
      " 0.07788334 0.07874925 0.07841251 0.07675286 0.08036079 0.08187613\n",
      " 0.07562237 0.0791341  0.0771377  0.07880163 0.07888221 0.07876563\n",
      " 0.07856863 0.07835709 0.07816335 0.07800085 0.07787392 0.07778299\n",
      " 0.07772729 0.07770547 0.07771593 0.07775649 0.0778247  0.07791746\n",
      " 0.07803155 0.07816355 0.07830998 0.07846764]\n",
      "19 day output [[0.07863349]]\n",
      "20 day input [0.92064943 0.97929044 0.99360192 0.98366807 1.         0.98544799\n",
      " 0.9834997  0.09308479 0.10544799 0.09876127 0.07345761 0.07365003\n",
      " 0.05407096 0.06489477 0.0556825  0.05209862 0.06016837 0.06061335\n",
      " 0.0524113  0.04810583 0.03968731 0.04748046 0.05164161 0.04036079\n",
      " 0.04300661 0.0527721  0.05921828 0.05712568 0.06126278 0.06361996\n",
      " 0.05455201 0.06292243 0.05488876 0.05950692 0.05924233 0.06405292\n",
      " 0.08192423 0.07398677 0.07420325 0.07304871 0.06898376 0.06167168\n",
      " 0.06535177 0.06381239 0.06111846 0.0594107  0.05943476 0.06316296\n",
      " 0.05017438 0.06008419 0.044546   0.04432952 0.04834636 0.05919423\n",
      " 0.06900782 0.06819002 0.06248948 0.06164762 0.07011425 0.06944077\n",
      " 0.06956103 0.07206254 0.06987372 0.06660253 0.06806975 0.06494287\n",
      " 0.05654841 0.05972339 0.06179194 0.06313891 0.06905592 0.07788334\n",
      " 0.07874925 0.07841251 0.07675286 0.08036079 0.08187613 0.07562237\n",
      " 0.0791341  0.0771377  0.07880163 0.07888221 0.07876563 0.07856863\n",
      " 0.07835709 0.07816335 0.07800085 0.07787392 0.07778299 0.07772729\n",
      " 0.07770547 0.07771593 0.07775649 0.0778247  0.07791746 0.07803155\n",
      " 0.07816355 0.07830998 0.07846764 0.07863349]\n",
      "20 day output [[0.07880483]]\n",
      "21 day input [0.97929044 0.99360192 0.98366807 1.         0.98544799 0.9834997\n",
      " 0.09308479 0.10544799 0.09876127 0.07345761 0.07365003 0.05407096\n",
      " 0.06489477 0.0556825  0.05209862 0.06016837 0.06061335 0.0524113\n",
      " 0.04810583 0.03968731 0.04748046 0.05164161 0.04036079 0.04300661\n",
      " 0.0527721  0.05921828 0.05712568 0.06126278 0.06361996 0.05455201\n",
      " 0.06292243 0.05488876 0.05950692 0.05924233 0.06405292 0.08192423\n",
      " 0.07398677 0.07420325 0.07304871 0.06898376 0.06167168 0.06535177\n",
      " 0.06381239 0.06111846 0.0594107  0.05943476 0.06316296 0.05017438\n",
      " 0.06008419 0.044546   0.04432952 0.04834636 0.05919423 0.06900782\n",
      " 0.06819002 0.06248948 0.06164762 0.07011425 0.06944077 0.06956103\n",
      " 0.07206254 0.06987372 0.06660253 0.06806975 0.06494287 0.05654841\n",
      " 0.05972339 0.06179194 0.06313891 0.06905592 0.07788334 0.07874925\n",
      " 0.07841251 0.07675286 0.08036079 0.08187613 0.07562237 0.0791341\n",
      " 0.0771377  0.07880163 0.07888221 0.07876563 0.07856863 0.07835709\n",
      " 0.07816335 0.07800085 0.07787392 0.07778299 0.07772729 0.07770547\n",
      " 0.07771593 0.07775649 0.0778247  0.07791746 0.07803155 0.07816355\n",
      " 0.07830998 0.07846764 0.07863349 0.07880483]\n",
      "21 day output [[0.07897931]]\n",
      "22 day input [0.99360192 0.98366807 1.         0.98544799 0.9834997  0.09308479\n",
      " 0.10544799 0.09876127 0.07345761 0.07365003 0.05407096 0.06489477\n",
      " 0.0556825  0.05209862 0.06016837 0.06061335 0.0524113  0.04810583\n",
      " 0.03968731 0.04748046 0.05164161 0.04036079 0.04300661 0.0527721\n",
      " 0.05921828 0.05712568 0.06126278 0.06361996 0.05455201 0.06292243\n",
      " 0.05488876 0.05950692 0.05924233 0.06405292 0.08192423 0.07398677\n",
      " 0.07420325 0.07304871 0.06898376 0.06167168 0.06535177 0.06381239\n",
      " 0.06111846 0.0594107  0.05943476 0.06316296 0.05017438 0.06008419\n",
      " 0.044546   0.04432952 0.04834636 0.05919423 0.06900782 0.06819002\n",
      " 0.06248948 0.06164762 0.07011425 0.06944077 0.06956103 0.07206254\n",
      " 0.06987372 0.06660253 0.06806975 0.06494287 0.05654841 0.05972339\n",
      " 0.06179194 0.06313891 0.06905592 0.07788334 0.07874925 0.07841251\n",
      " 0.07675286 0.08036079 0.08187613 0.07562237 0.0791341  0.0771377\n",
      " 0.07880163 0.07888221 0.07876563 0.07856863 0.07835709 0.07816335\n",
      " 0.07800085 0.07787392 0.07778299 0.07772729 0.07770547 0.07771593\n",
      " 0.07775649 0.0778247  0.07791746 0.07803155 0.07816355 0.07830998\n",
      " 0.07846764 0.07863349 0.07880483 0.07897931]\n",
      "22 day output [[0.07915506]]\n",
      "23 day input [0.98366807 1.         0.98544799 0.9834997  0.09308479 0.10544799\n",
      " 0.09876127 0.07345761 0.07365003 0.05407096 0.06489477 0.0556825\n",
      " 0.05209862 0.06016837 0.06061335 0.0524113  0.04810583 0.03968731\n",
      " 0.04748046 0.05164161 0.04036079 0.04300661 0.0527721  0.05921828\n",
      " 0.05712568 0.06126278 0.06361996 0.05455201 0.06292243 0.05488876\n",
      " 0.05950692 0.05924233 0.06405292 0.08192423 0.07398677 0.07420325\n",
      " 0.07304871 0.06898376 0.06167168 0.06535177 0.06381239 0.06111846\n",
      " 0.0594107  0.05943476 0.06316296 0.05017438 0.06008419 0.044546\n",
      " 0.04432952 0.04834636 0.05919423 0.06900782 0.06819002 0.06248948\n",
      " 0.06164762 0.07011425 0.06944077 0.06956103 0.07206254 0.06987372\n",
      " 0.06660253 0.06806975 0.06494287 0.05654841 0.05972339 0.06179194\n",
      " 0.06313891 0.06905592 0.07788334 0.07874925 0.07841251 0.07675286\n",
      " 0.08036079 0.08187613 0.07562237 0.0791341  0.0771377  0.07880163\n",
      " 0.07888221 0.07876563 0.07856863 0.07835709 0.07816335 0.07800085\n",
      " 0.07787392 0.07778299 0.07772729 0.07770547 0.07771593 0.07775649\n",
      " 0.0778247  0.07791746 0.07803155 0.07816355 0.07830998 0.07846764\n",
      " 0.07863349 0.07880483 0.07897931 0.07915506]\n",
      "23 day output [[0.07933045]]\n",
      "24 day input [1.         0.98544799 0.9834997  0.09308479 0.10544799 0.09876127\n",
      " 0.07345761 0.07365003 0.05407096 0.06489477 0.0556825  0.05209862\n",
      " 0.06016837 0.06061335 0.0524113  0.04810583 0.03968731 0.04748046\n",
      " 0.05164161 0.04036079 0.04300661 0.0527721  0.05921828 0.05712568\n",
      " 0.06126278 0.06361996 0.05455201 0.06292243 0.05488876 0.05950692\n",
      " 0.05924233 0.06405292 0.08192423 0.07398677 0.07420325 0.07304871\n",
      " 0.06898376 0.06167168 0.06535177 0.06381239 0.06111846 0.0594107\n",
      " 0.05943476 0.06316296 0.05017438 0.06008419 0.044546   0.04432952\n",
      " 0.04834636 0.05919423 0.06900782 0.06819002 0.06248948 0.06164762\n",
      " 0.07011425 0.06944077 0.06956103 0.07206254 0.06987372 0.06660253\n",
      " 0.06806975 0.06494287 0.05654841 0.05972339 0.06179194 0.06313891\n",
      " 0.06905592 0.07788334 0.07874925 0.07841251 0.07675286 0.08036079\n",
      " 0.08187613 0.07562237 0.0791341  0.0771377  0.07880163 0.07888221\n",
      " 0.07876563 0.07856863 0.07835709 0.07816335 0.07800085 0.07787392\n",
      " 0.07778299 0.07772729 0.07770547 0.07771593 0.07775649 0.0778247\n",
      " 0.07791746 0.07803155 0.07816355 0.07830998 0.07846764 0.07863349\n",
      " 0.07880483 0.07897931 0.07915506 0.07933045]\n",
      "24 day output [[0.07950431]]\n",
      "25 day input [0.98544799 0.9834997  0.09308479 0.10544799 0.09876127 0.07345761\n",
      " 0.07365003 0.05407096 0.06489477 0.0556825  0.05209862 0.06016837\n",
      " 0.06061335 0.0524113  0.04810583 0.03968731 0.04748046 0.05164161\n",
      " 0.04036079 0.04300661 0.0527721  0.05921828 0.05712568 0.06126278\n",
      " 0.06361996 0.05455201 0.06292243 0.05488876 0.05950692 0.05924233\n",
      " 0.06405292 0.08192423 0.07398677 0.07420325 0.07304871 0.06898376\n",
      " 0.06167168 0.06535177 0.06381239 0.06111846 0.0594107  0.05943476\n",
      " 0.06316296 0.05017438 0.06008419 0.044546   0.04432952 0.04834636\n",
      " 0.05919423 0.06900782 0.06819002 0.06248948 0.06164762 0.07011425\n",
      " 0.06944077 0.06956103 0.07206254 0.06987372 0.06660253 0.06806975\n",
      " 0.06494287 0.05654841 0.05972339 0.06179194 0.06313891 0.06905592\n",
      " 0.07788334 0.07874925 0.07841251 0.07675286 0.08036079 0.08187613\n",
      " 0.07562237 0.0791341  0.0771377  0.07880163 0.07888221 0.07876563\n",
      " 0.07856863 0.07835709 0.07816335 0.07800085 0.07787392 0.07778299\n",
      " 0.07772729 0.07770547 0.07771593 0.07775649 0.0778247  0.07791746\n",
      " 0.07803155 0.07816355 0.07830998 0.07846764 0.07863349 0.07880483\n",
      " 0.07897931 0.07915506 0.07933045 0.07950431]\n",
      "25 day output [[0.07967578]]\n",
      "26 day input [0.9834997  0.09308479 0.10544799 0.09876127 0.07345761 0.07365003\n",
      " 0.05407096 0.06489477 0.0556825  0.05209862 0.06016837 0.06061335\n",
      " 0.0524113  0.04810583 0.03968731 0.04748046 0.05164161 0.04036079\n",
      " 0.04300661 0.0527721  0.05921828 0.05712568 0.06126278 0.06361996\n",
      " 0.05455201 0.06292243 0.05488876 0.05950692 0.05924233 0.06405292\n",
      " 0.08192423 0.07398677 0.07420325 0.07304871 0.06898376 0.06167168\n",
      " 0.06535177 0.06381239 0.06111846 0.0594107  0.05943476 0.06316296\n",
      " 0.05017438 0.06008419 0.044546   0.04432952 0.04834636 0.05919423\n",
      " 0.06900782 0.06819002 0.06248948 0.06164762 0.07011425 0.06944077\n",
      " 0.06956103 0.07206254 0.06987372 0.06660253 0.06806975 0.06494287\n",
      " 0.05654841 0.05972339 0.06179194 0.06313891 0.06905592 0.07788334\n",
      " 0.07874925 0.07841251 0.07675286 0.08036079 0.08187613 0.07562237\n",
      " 0.0791341  0.0771377  0.07880163 0.07888221 0.07876563 0.07856863\n",
      " 0.07835709 0.07816335 0.07800085 0.07787392 0.07778299 0.07772729\n",
      " 0.07770547 0.07771593 0.07775649 0.0778247  0.07791746 0.07803155\n",
      " 0.07816355 0.07830998 0.07846764 0.07863349 0.07880483 0.07897931\n",
      " 0.07915506 0.07933045 0.07950431 0.07967578]\n",
      "26 day output [[0.07984429]]\n",
      "27 day input [0.09308479 0.10544799 0.09876127 0.07345761 0.07365003 0.05407096\n",
      " 0.06489477 0.0556825  0.05209862 0.06016837 0.06061335 0.0524113\n",
      " 0.04810583 0.03968731 0.04748046 0.05164161 0.04036079 0.04300661\n",
      " 0.0527721  0.05921828 0.05712568 0.06126278 0.06361996 0.05455201\n",
      " 0.06292243 0.05488876 0.05950692 0.05924233 0.06405292 0.08192423\n",
      " 0.07398677 0.07420325 0.07304871 0.06898376 0.06167168 0.06535177\n",
      " 0.06381239 0.06111846 0.0594107  0.05943476 0.06316296 0.05017438\n",
      " 0.06008419 0.044546   0.04432952 0.04834636 0.05919423 0.06900782\n",
      " 0.06819002 0.06248948 0.06164762 0.07011425 0.06944077 0.06956103\n",
      " 0.07206254 0.06987372 0.06660253 0.06806975 0.06494287 0.05654841\n",
      " 0.05972339 0.06179194 0.06313891 0.06905592 0.07788334 0.07874925\n",
      " 0.07841251 0.07675286 0.08036079 0.08187613 0.07562237 0.0791341\n",
      " 0.0771377  0.07880163 0.07888221 0.07876563 0.07856863 0.07835709\n",
      " 0.07816335 0.07800085 0.07787392 0.07778299 0.07772729 0.07770547\n",
      " 0.07771593 0.07775649 0.0778247  0.07791746 0.07803155 0.07816355\n",
      " 0.07830998 0.07846764 0.07863349 0.07880483 0.07897931 0.07915506\n",
      " 0.07933045 0.07950431 0.07967578 0.07984429]\n",
      "27 day output [[0.08000951]]\n",
      "28 day input [0.10544799 0.09876127 0.07345761 0.07365003 0.05407096 0.06489477\n",
      " 0.0556825  0.05209862 0.06016837 0.06061335 0.0524113  0.04810583\n",
      " 0.03968731 0.04748046 0.05164161 0.04036079 0.04300661 0.0527721\n",
      " 0.05921828 0.05712568 0.06126278 0.06361996 0.05455201 0.06292243\n",
      " 0.05488876 0.05950692 0.05924233 0.06405292 0.08192423 0.07398677\n",
      " 0.07420325 0.07304871 0.06898376 0.06167168 0.06535177 0.06381239\n",
      " 0.06111846 0.0594107  0.05943476 0.06316296 0.05017438 0.06008419\n",
      " 0.044546   0.04432952 0.04834636 0.05919423 0.06900782 0.06819002\n",
      " 0.06248948 0.06164762 0.07011425 0.06944077 0.06956103 0.07206254\n",
      " 0.06987372 0.06660253 0.06806975 0.06494287 0.05654841 0.05972339\n",
      " 0.06179194 0.06313891 0.06905592 0.07788334 0.07874925 0.07841251\n",
      " 0.07675286 0.08036079 0.08187613 0.07562237 0.0791341  0.0771377\n",
      " 0.07880163 0.07888221 0.07876563 0.07856863 0.07835709 0.07816335\n",
      " 0.07800085 0.07787392 0.07778299 0.07772729 0.07770547 0.07771593\n",
      " 0.07775649 0.0778247  0.07791746 0.07803155 0.07816355 0.07830998\n",
      " 0.07846764 0.07863349 0.07880483 0.07897931 0.07915506 0.07933045\n",
      " 0.07950431 0.07967578 0.07984429 0.08000951]\n",
      "28 day output [[0.08017142]]\n",
      "29 day input [0.09876127 0.07345761 0.07365003 0.05407096 0.06489477 0.0556825\n",
      " 0.05209862 0.06016837 0.06061335 0.0524113  0.04810583 0.03968731\n",
      " 0.04748046 0.05164161 0.04036079 0.04300661 0.0527721  0.05921828\n",
      " 0.05712568 0.06126278 0.06361996 0.05455201 0.06292243 0.05488876\n",
      " 0.05950692 0.05924233 0.06405292 0.08192423 0.07398677 0.07420325\n",
      " 0.07304871 0.06898376 0.06167168 0.06535177 0.06381239 0.06111846\n",
      " 0.0594107  0.05943476 0.06316296 0.05017438 0.06008419 0.044546\n",
      " 0.04432952 0.04834636 0.05919423 0.06900782 0.06819002 0.06248948\n",
      " 0.06164762 0.07011425 0.06944077 0.06956103 0.07206254 0.06987372\n",
      " 0.06660253 0.06806975 0.06494287 0.05654841 0.05972339 0.06179194\n",
      " 0.06313891 0.06905592 0.07788334 0.07874925 0.07841251 0.07675286\n",
      " 0.08036079 0.08187613 0.07562237 0.0791341  0.0771377  0.07880163\n",
      " 0.07888221 0.07876563 0.07856863 0.07835709 0.07816335 0.07800085\n",
      " 0.07787392 0.07778299 0.07772729 0.07770547 0.07771593 0.07775649\n",
      " 0.0778247  0.07791746 0.07803155 0.07816355 0.07830998 0.07846764\n",
      " 0.07863349 0.07880483 0.07897931 0.07915506 0.07933045 0.07950431\n",
      " 0.07967578 0.07984429 0.08000951 0.08017142]\n",
      "29 day output [[0.08033004]]\n",
      "[[0.07880163192749023], [0.07888220995664597], [0.0787656307220459], [0.07856862992048264], [0.07835708558559418], [0.07816334813833237], [0.07800085097551346], [0.07787391543388367], [0.07778298854827881], [0.0777272880077362], [0.07770546525716782], [0.0777159258723259], [0.07775649428367615], [0.07782469689846039], [0.07791745662689209], [0.07803155481815338], [0.07816354930400848], [0.07830998301506042], [0.07846764475107193], [0.07863348722457886], [0.07880482822656631], [0.07897931337356567], [0.07915505766868591], [0.0793304517865181], [0.07950431108474731], [0.07967577874660492], [0.07984428852796555], [0.08000951260328293], [0.08017142117023468], [0.08033003658056259]]\n"
     ]
    }
   ],
   "source": [
    "# demonstrate prediction for next 10 days\n",
    "from numpy import array\n",
    "\n",
    "lst_output=[]\n",
    "n_steps=100\n",
    "i=0\n",
    "while(i<30):\n",
    "    \n",
    "    if(len(temp_input)>100): ### At first it will not get executed because temp_input - 100 , Once 1st pred is done , Then only\n",
    "        #print(temp_input)\n",
    "        x_input=np.array(temp_input[1:]) ## We will increament our window iteration to 1-101\n",
    "        print(\"{} day input {}\".format(i,x_input))\n",
    "        x_input=x_input.reshape(1,-1)\n",
    "        x_input = x_input.reshape((1, n_steps, 1))### Reshape input matrix required by lstm\n",
    "        #print(x_input)\n",
    "        yhat = model.predict(x_input, verbose=0)\n",
    "        print(\"{} day output {}\".format(i,yhat))\n",
    "        temp_input.extend(yhat[0].tolist()) ### Will append the predicted value to the temp_input - size - 102\n",
    "        temp_input=temp_input[1:] ## Will update temp_input -- remove the 0th-- 1 -- 102 -- So again when it goes in loop 1--102 , It will take from 2:102 ..Assume it as 0 - 101  \n",
    "        #print(temp_input)\n",
    "        lst_output.extend(yhat.tolist())\n",
    "        i=i+1\n",
    "    else:\n",
    "        ### Reshape input matrix required by lstm\n",
    "        x_input = x_input.reshape((1, n_steps,1))\n",
    "        yhat = model.predict(x_input, verbose=0)\n",
    "        print(yhat[0])\n",
    "        temp_input.extend(yhat[0].tolist()) ### Will append the predicted value to the temp_input - size - 101\n",
    "        print(len(temp_input))\n",
    "        lst_output.extend(yhat.tolist())\n",
    "        i=i+1\n",
    "    \n",
    "\n",
    "print(lst_output)"
   ]
  },
  {
   "cell_type": "markdown",
   "metadata": {
    "id": "Vh2JbNYpm5f3"
   },
   "source": [
    "## Visualization"
   ]
  },
  {
   "cell_type": "code",
   "execution_count": 31,
   "metadata": {
    "colab": {
     "base_uri": "https://localhost:8080/"
    },
    "id": "kRLysIY1mc9v",
    "outputId": "29ed50f1-4461-498b-fe94-1327c1cc941e"
   },
   "outputs": [
    {
     "data": {
      "text/plain": [
       "1258"
      ]
     },
     "execution_count": 31,
     "metadata": {
      "tags": []
     },
     "output_type": "execute_result"
    }
   ],
   "source": [
    "import matplotlib.pyplot as plt\n",
    "day_new=np.arange(1,101)\n",
    "day_pred=np.arange(101,131)\n",
    "\n",
    "\n",
    "len(df1)"
   ]
  },
  {
   "cell_type": "code",
   "execution_count": 33,
   "metadata": {
    "colab": {
     "base_uri": "https://localhost:8080/"
    },
    "id": "FmToEu58m-yk",
    "outputId": "59245cd4-9c89-41fb-8a51-e0db22f45802"
   },
   "outputs": [
    {
     "data": {
      "text/plain": [
       "array([[371.38 ],\n",
       "       [370.46 ],\n",
       "       [379.24 ],\n",
       "       [373.01 ],\n",
       "       [380.16 ],\n",
       "       [384.76 ],\n",
       "       [425.04 ],\n",
       "       [435.75 ],\n",
       "       [438.66 ],\n",
       "       [440.25 ],\n",
       "       [455.61 ],\n",
       "       [444.45 ],\n",
       "       [450.91 ],\n",
       "       [437.5  ],\n",
       "       [452.04 ],\n",
       "       [460.04 ],\n",
       "       [459.63 ],\n",
       "       [458.43 ],\n",
       "       [462.25 ],\n",
       "       [462.83 ],\n",
       "       [473.1  ],\n",
       "       [497.48 ],\n",
       "       [503.43 ],\n",
       "       [499.3  ],\n",
       "       [506.09 ],\n",
       "       [500.04 ],\n",
       "       [499.23 ],\n",
       "       [129.04 ],\n",
       "       [134.18 ],\n",
       "       [131.4  ],\n",
       "       [120.88 ],\n",
       "       [120.96 ],\n",
       "       [112.82 ],\n",
       "       [117.32 ],\n",
       "       [113.49 ],\n",
       "       [112.   ],\n",
       "       [115.355],\n",
       "       [115.54 ],\n",
       "       [112.13 ],\n",
       "       [110.34 ],\n",
       "       [106.84 ],\n",
       "       [110.08 ],\n",
       "       [111.81 ],\n",
       "       [107.12 ],\n",
       "       [108.22 ],\n",
       "       [112.28 ],\n",
       "       [114.96 ],\n",
       "       [114.09 ],\n",
       "       [115.81 ],\n",
       "       [116.79 ],\n",
       "       [113.02 ],\n",
       "       [116.5  ],\n",
       "       [113.16 ],\n",
       "       [115.08 ],\n",
       "       [114.97 ],\n",
       "       [116.97 ],\n",
       "       [124.4  ],\n",
       "       [121.1  ],\n",
       "       [121.19 ],\n",
       "       [120.71 ],\n",
       "       [119.02 ],\n",
       "       [115.98 ],\n",
       "       [117.51 ],\n",
       "       [116.87 ],\n",
       "       [115.75 ],\n",
       "       [115.04 ],\n",
       "       [115.05 ],\n",
       "       [116.6  ],\n",
       "       [111.2  ],\n",
       "       [115.32 ],\n",
       "       [108.86 ],\n",
       "       [108.77 ],\n",
       "       [110.44 ],\n",
       "       [114.95 ],\n",
       "       [119.03 ],\n",
       "       [118.69 ],\n",
       "       [116.32 ],\n",
       "       [115.97 ],\n",
       "       [119.49 ],\n",
       "       [119.21 ],\n",
       "       [119.26 ],\n",
       "       [120.3  ],\n",
       "       [119.39 ],\n",
       "       [118.03 ],\n",
       "       [118.64 ],\n",
       "       [117.34 ],\n",
       "       [113.85 ],\n",
       "       [115.17 ],\n",
       "       [116.03 ],\n",
       "       [116.59 ],\n",
       "       [119.05 ],\n",
       "       [122.72 ],\n",
       "       [123.08 ],\n",
       "       [122.94 ],\n",
       "       [122.25 ],\n",
       "       [123.75 ],\n",
       "       [124.38 ],\n",
       "       [121.78 ],\n",
       "       [123.24 ],\n",
       "       [122.41 ]])"
      ]
     },
     "execution_count": 33,
     "metadata": {
      "tags": []
     },
     "output_type": "execute_result"
    }
   ],
   "source": [
    "scaler.inverse_transform(df1[1158:])"
   ]
  },
  {
   "cell_type": "code",
   "execution_count": 34,
   "metadata": {
    "colab": {
     "base_uri": "https://localhost:8080/"
    },
    "id": "gm7921xqnYm0",
    "outputId": "2c70c111-355f-440d-8fed-056aeefcba05"
   },
   "outputs": [
    {
     "data": {
      "text/plain": [
       "array([[123.10177847],\n",
       "       [123.13527879],\n",
       "       [123.08681097],\n",
       "       [123.00490789],\n",
       "       [122.91695833],\n",
       "       [122.83641199],\n",
       "       [122.76885379],\n",
       "       [122.71608034],\n",
       "       [122.67827749],\n",
       "       [122.65511999],\n",
       "       [122.64604718],\n",
       "       [122.65039618],\n",
       "       [122.6672625 ],\n",
       "       [122.69561774],\n",
       "       [122.73418259],\n",
       "       [122.78161892],\n",
       "       [122.83649562],\n",
       "       [122.89737544],\n",
       "       [122.96292331],\n",
       "       [123.03187231],\n",
       "       [123.10310734],\n",
       "       [123.17564954],\n",
       "       [123.24871523],\n",
       "       [123.32163533],\n",
       "       [123.39391733],\n",
       "       [123.46520501],\n",
       "       [123.53526296],\n",
       "       [123.60395486],\n",
       "       [123.67126835],\n",
       "       [123.73721271]])"
      ]
     },
     "execution_count": 34,
     "metadata": {
      "tags": []
     },
     "output_type": "execute_result"
    }
   ],
   "source": [
    "scaler.inverse_transform(lst_output)"
   ]
  },
  {
   "cell_type": "code",
   "execution_count": 35,
   "metadata": {
    "colab": {
     "base_uri": "https://localhost:8080/",
     "height": 282
    },
    "id": "bXtn39K6nmo4",
    "outputId": "f9dad507-d190-4157-b3d3-8b020582ba6d"
   },
   "outputs": [
    {
     "data": {
      "text/plain": [
       "[<matplotlib.lines.Line2D at 0x7f01083244e0>]"
      ]
     },
     "execution_count": 35,
     "metadata": {
      "tags": []
     },
     "output_type": "execute_result"
    },
    {
     "data": {
      "image/png": "[encoded data removed]",
      "text/plain": [
       "<Figure size 432x288 with 1 Axes>"
      ]
     },
     "metadata": {
      "needs_background": "light",
      "tags": []
     },
     "output_type": "display_data"
    }
   ],
   "source": [
    "plt.plot(day_new,scaler.inverse_transform(df1[1158:]))"
   ]
  },
  {
   "cell_type": "code",
   "execution_count": 36,
   "metadata": {
    "colab": {
     "base_uri": "https://localhost:8080/",
     "height": 282
    },
    "id": "o-jtzXEqnvWb",
    "outputId": "c68670c7-f95e-4016-e6bf-5320092eb6e4"
   },
   "outputs": [
    {
     "data": {
      "text/plain": [
       "[<matplotlib.lines.Line2D at 0x7f01083802e8>]"
      ]
     },
     "execution_count": 36,
     "metadata": {
      "tags": []
     },
     "output_type": "execute_result"
    },
    {
     "data": {
      "image/png": "[encoded data removed]",
      "text/plain": [
       "<Figure size 432x288 with 1 Axes>"
      ]
     },
     "metadata": {
      "needs_background": "light",
      "tags": []
     },
     "output_type": "display_data"
    }
   ],
   "source": [
    "plt.plot(day_pred,scaler.inverse_transform(lst_output))"
   ]
  },
  {
   "cell_type": "code",
   "execution_count": 37,
   "metadata": {
    "colab": {
     "base_uri": "https://localhost:8080/",
     "height": 282
    },
    "id": "hBTfRCGynUwl",
    "outputId": "8979c5f5-14c1-4407-b403-3dfd74a5cdee"
   },
   "outputs": [
    {
     "data": {
      "text/plain": [
       "[<matplotlib.lines.Line2D at 0x7f010825e9b0>]"
      ]
     },
     "execution_count": 37,
     "metadata": {
      "tags": []
     },
     "output_type": "execute_result"
    },
    {
     "data": {
      "image/png": "[encoded data removed]",
      "text/plain": [
       "<Figure size 432x288 with 1 Axes>"
      ]
     },
     "metadata": {
      "needs_background": "light",
      "tags": []
     },
     "output_type": "display_data"
    }
   ],
   "source": [
    "plt.plot(day_new,scaler.inverse_transform(df1[1158:]))\n",
    "plt.plot(day_pred,scaler.inverse_transform(lst_output))\n"
   ]
  },
  {
   "cell_type": "code",
   "execution_count": 40,
   "metadata": {
    "colab": {
     "base_uri": "https://localhost:8080/"
    },
    "id": "AiUz00tPn_SY",
    "outputId": "9f781413-e8a7-495d-ae30-88dc82b58629"
   },
   "outputs": [
    {
     "data": {
      "text/plain": [
       "1258"
      ]
     },
     "execution_count": 40,
     "metadata": {
      "tags": []
     },
     "output_type": "execute_result"
    }
   ],
   "source": [
    "df3=df1.tolist()\n",
    "len(df3)"
   ]
  },
  {
   "cell_type": "code",
   "execution_count": 41,
   "metadata": {
    "colab": {
     "base_uri": "https://localhost:8080/"
    },
    "id": "rDOPbAgGoJK-",
    "outputId": "abe35208-e380-47f8-c1c0-b8c8415ba4d1"
   },
   "outputs": [
    {
     "data": {
      "text/plain": [
       "1288"
      ]
     },
     "execution_count": 41,
     "metadata": {
      "tags": []
     },
     "output_type": "execute_result"
    }
   ],
   "source": [
    "df3.extend(lst_output)  ## Now final data will get extend by 30 days\n",
    "len(df3)"
   ]
  },
  {
   "cell_type": "code",
   "execution_count": 43,
   "metadata": {
    "colab": {
     "base_uri": "https://localhost:8080/"
    },
    "id": "Is56eNVyophv",
    "outputId": "062224c6-19a2-4aeb-af4d-08723bde537d"
   },
   "outputs": [
    {
     "data": {
      "text/plain": [
       "[[0.05164161154539987],\n",
       " [0.04036079374624174],\n",
       " [0.04300661455201443],\n",
       " [0.05277209861695731],\n",
       " [0.05921828021647624],\n",
       " [0.05712567648827421],\n",
       " [0.06126277811184605],\n",
       " [0.06361996392062536],\n",
       " [0.05455201443174984],\n",
       " [0.062922429344558],\n",
       " [0.05488875526157544],\n",
       " [0.059506915213469624],\n",
       " [0.059242333132892344],\n",
       " [0.06405291641611544],\n",
       " [0.08192423331328924],\n",
       " [0.07398677089597111],\n",
       " [0.07420324714371618],\n",
       " [0.07304870715574258],\n",
       " [0.06898376428141911],\n",
       " [0.061671677690920024],\n",
       " [0.06535177390258567],\n",
       " [0.06381238725195432],\n",
       " [0.06111846061334936],\n",
       " [0.059410703547805144],\n",
       " [0.05943475646422125],\n",
       " [0.06316295850871917],\n",
       " [0.05017438364401683],\n",
       " [0.06008418520745634],\n",
       " [0.04454600120264579],\n",
       " [0.04432952495490078],\n",
       " [0.04834636199639203],\n",
       " [0.05919422730006013],\n",
       " [0.06900781719783522],\n",
       " [0.06819001803968727],\n",
       " [0.062489476849067915],\n",
       " [0.06164762477450386],\n",
       " [0.0701142513529765],\n",
       " [0.0694407696933253],\n",
       " [0.06956103427540589],\n",
       " [0.07206253758268188],\n",
       " [0.06987372218881538],\n",
       " [0.0666025255562237],\n",
       " [0.06806975345760674],\n",
       " [0.0649428743235117],\n",
       " [0.056548406494287384],\n",
       " [0.05972339146121464],\n",
       " [0.06179194227300061],\n",
       " [0.06313890559230306],\n",
       " [0.06905592303066743],\n",
       " [0.07788334335538183],\n",
       " [0.07874924834636199],\n",
       " [0.07841250751653633],\n",
       " [0.07675285628382439],\n",
       " [0.08036079374624172],\n",
       " [0.08187612748045697],\n",
       " [0.07562236921226695],\n",
       " [0.0791340950090198],\n",
       " [0.07713770294648226],\n",
       " [0.07880163192749023],\n",
       " [0.07888220995664597],\n",
       " [0.0787656307220459],\n",
       " [0.07856862992048264],\n",
       " [0.07835708558559418],\n",
       " [0.07816334813833237],\n",
       " [0.07800085097551346],\n",
       " [0.07787391543388367],\n",
       " [0.07778298854827881],\n",
       " [0.0777272880077362],\n",
       " [0.07770546525716782],\n",
       " [0.0777159258723259],\n",
       " [0.07775649428367615],\n",
       " [0.07782469689846039],\n",
       " [0.07791745662689209],\n",
       " [0.07803155481815338],\n",
       " [0.07816354930400848],\n",
       " [0.07830998301506042],\n",
       " [0.07846764475107193],\n",
       " [0.07863348722457886],\n",
       " [0.07880482822656631],\n",
       " [0.07897931337356567],\n",
       " [0.07915505766868591],\n",
       " [0.0793304517865181],\n",
       " [0.07950431108474731],\n",
       " [0.07967577874660492],\n",
       " [0.07984428852796555],\n",
       " [0.08000951260328293],\n",
       " [0.08017142117023468],\n",
       " [0.08033003658056259]]"
      ]
     },
     "execution_count": 43,
     "metadata": {
      "tags": []
     },
     "output_type": "execute_result"
    }
   ],
   "source": [
    "df3[1200:]"
   ]
  },
  {
   "cell_type": "code",
   "execution_count": 42,
   "metadata": {
    "colab": {
     "base_uri": "https://localhost:8080/",
     "height": 282
    },
    "id": "fhIeEtKaoa7Y",
    "outputId": "94447b3e-c142-40fa-c373-83ebb309769e"
   },
   "outputs": [
    {
     "data": {
      "text/plain": [
       "[<matplotlib.lines.Line2D at 0x7f0108183940>]"
      ]
     },
     "execution_count": 42,
     "metadata": {
      "tags": []
     },
     "output_type": "execute_result"
    },
    {
     "data": {
      "image/png": "[encoded data removed]",
      "text/plain": [
       "<Figure size 432x288 with 1 Axes>"
      ]
     },
     "metadata": {
      "needs_background": "light",
      "tags": []
     },
     "output_type": "display_data"
    }
   ],
   "source": [
    "plt.plot(df3[1200:])"
   ]
  },
  {
   "cell_type": "code",
   "execution_count": 44,
   "metadata": {
    "colab": {
     "base_uri": "https://localhost:8080/"
    },
    "id": "jTOs_PD-o67_",
    "outputId": "c0a6220b-28e2-4643-a310-a7f71de6819c"
   },
   "outputs": [
    {
     "data": {
      "text/plain": [
       "1288"
      ]
     },
     "execution_count": 44,
     "metadata": {
      "tags": []
     },
     "output_type": "execute_result"
    }
   ],
   "source": [
    "len(df3)"
   ]
  },
  {
   "cell_type": "code",
   "execution_count": 45,
   "metadata": {
    "colab": {
     "base_uri": "https://localhost:8080/",
     "height": 283
    },
    "id": "enX0KEBGofpE",
    "outputId": "da704234-5037-4a19-b5b2-2a794a4028d0"
   },
   "outputs": [
    {
     "data": {
      "text/plain": [
       "[<matplotlib.lines.Line2D at 0x7f01080e9e48>]"
      ]
     },
     "execution_count": 45,
     "metadata": {
      "tags": []
     },
     "output_type": "execute_result"
    },
    {
     "data": {
      "image/png": "[encoded data removed]",
      "text/plain": [
       "<Figure size 432x288 with 1 Axes>"
      ]
     },
     "metadata": {
      "needs_background": "light",
      "tags": []
     },
     "output_type": "display_data"
    }
   ],
   "source": [
    "df3=scaler.inverse_transform(df3).tolist()\n",
    "plt.plot(df3[1200:])"
   ]
  },
  {
   "cell_type": "code",
   "execution_count": 46,
   "metadata": {
    "colab": {
     "base_uri": "https://localhost:8080/",
     "height": 282
    },
    "id": "QDkYx1y0pIVv",
    "outputId": "724f342e-ff67-4cf6-c872-633c94a9667b"
   },
   "outputs": [
    {
     "data": {
      "text/plain": [
       "[<matplotlib.lines.Line2D at 0x7f01081a7240>]"
      ]
     },
     "execution_count": 46,
     "metadata": {
      "tags": []
     },
     "output_type": "execute_result"
    },
    {
     "data": {
      "image/png": "[encoded data removed]",
      "text/plain": [
       "<Figure size 432x288 with 1 Axes>"
      ]
     },
     "metadata": {
      "needs_background": "light",
      "tags": []
     },
     "output_type": "display_data"
    }
   ],
   "source": [
    "plt.plot(df3)"
   ]
  },
  {
   "cell_type": "code",
   "execution_count": 47,
   "metadata": {
    "colab": {
     "base_uri": "https://localhost:8080/"
    },
    "id": "v5gGep_epNfR",
    "outputId": "ddffb177-9dde-43f6-f1ba-45215e9d772a"
   },
   "outputs": [
    {
     "data": {
      "text/plain": [
       "[[123.10177847385407],\n",
       " [123.13527878947556],\n",
       " [123.08681097269059],\n",
       " [123.00490788944066],\n",
       " [122.91695833221078],\n",
       " [122.83641198851168],\n",
       " [122.76885379306972],\n",
       " [122.71608034163714],\n",
       " [122.67827748894692],\n",
       " [122.65511998921633],\n",
       " [122.64604718066752],\n",
       " [122.6503961814195],\n",
       " [122.66726249843836],\n",
       " [122.69561773553491],\n",
       " [122.73418259263039],\n",
       " [122.78161891564727],\n",
       " [122.83649562314153],\n",
       " [122.89737543851138],\n",
       " [122.96292330525816],\n",
       " [123.03187231361866],\n",
       " [123.10310733519495],\n",
       " [123.17564953505993],\n",
       " [123.24871522575617],\n",
       " [123.3216353302449],\n",
       " [123.3939173334837],\n",
       " [123.465205013901],\n",
       " [123.53526295550168],\n",
       " [123.60395486481488],\n",
       " [123.67126835152507],\n",
       " [123.7372127083689]]"
      ]
     },
     "execution_count": 47,
     "metadata": {
      "tags": []
     },
     "output_type": "execute_result"
    }
   ],
   "source": [
    "df3[1258:1288]"
   ]
  },
  {
   "cell_type": "code",
   "execution_count": null,
   "metadata": {
    "id": "RpRYrjHVpUq4"
   },
   "outputs": [],
   "source": []
  }
 ],
 "metadata": {
  "colab": {
   "collapsed_sections": [],
   "name": "StockPrice_Prediction_Using_Stacked_LSTM.ipynb",
   "provenance": []
  },
  "kernelspec": {
   "display_name": "Python 3",
   "language": "python",
   "name": "python3"
  },
  "language_info": {
   "codemirror_mode": {
    "name": "ipython",
    "version": 3
   },
   "file_extension": ".py",
   "mimetype": "text/x-python",
   "name": "python",
   "nbconvert_exporter": "python",
   "pygments_lexer": "ipython3",
   "version": "3.7.3"
  }
 },
 "nbformat": 4,
 "nbformat_minor": 1
}
